{
 "cells": [
  {
   "cell_type": "code",
   "execution_count": 1,
   "metadata": {
    "pycharm": {
     "is_executing": false,
     "metadata": false,
     "name": "#%%\n"
    }
   },
   "outputs": [
    {
     "name": "stderr",
     "output_type": "stream",
     "text": [
      "/home/filip/miniconda3/envs/tfinstall/lib/python3.7/site-packages/tensorflow/python/framework/dtypes.py:516: FutureWarning: Passing (type, 1) or '1type' as a synonym of type is deprecated; in a future version of numpy, it will be understood as (type, (1,)) / '(1,)type'.\n",
      "  _np_qint8 = np.dtype([(\"qint8\", np.int8, 1)])\n",
      "/home/filip/miniconda3/envs/tfinstall/lib/python3.7/site-packages/tensorflow/python/framework/dtypes.py:517: FutureWarning: Passing (type, 1) or '1type' as a synonym of type is deprecated; in a future version of numpy, it will be understood as (type, (1,)) / '(1,)type'.\n",
      "  _np_quint8 = np.dtype([(\"quint8\", np.uint8, 1)])\n",
      "/home/filip/miniconda3/envs/tfinstall/lib/python3.7/site-packages/tensorflow/python/framework/dtypes.py:518: FutureWarning: Passing (type, 1) or '1type' as a synonym of type is deprecated; in a future version of numpy, it will be understood as (type, (1,)) / '(1,)type'.\n",
      "  _np_qint16 = np.dtype([(\"qint16\", np.int16, 1)])\n",
      "/home/filip/miniconda3/envs/tfinstall/lib/python3.7/site-packages/tensorflow/python/framework/dtypes.py:519: FutureWarning: Passing (type, 1) or '1type' as a synonym of type is deprecated; in a future version of numpy, it will be understood as (type, (1,)) / '(1,)type'.\n",
      "  _np_quint16 = np.dtype([(\"quint16\", np.uint16, 1)])\n",
      "/home/filip/miniconda3/envs/tfinstall/lib/python3.7/site-packages/tensorflow/python/framework/dtypes.py:520: FutureWarning: Passing (type, 1) or '1type' as a synonym of type is deprecated; in a future version of numpy, it will be understood as (type, (1,)) / '(1,)type'.\n",
      "  _np_qint32 = np.dtype([(\"qint32\", np.int32, 1)])\n",
      "/home/filip/miniconda3/envs/tfinstall/lib/python3.7/site-packages/tensorflow/python/framework/dtypes.py:525: FutureWarning: Passing (type, 1) or '1type' as a synonym of type is deprecated; in a future version of numpy, it will be understood as (type, (1,)) / '(1,)type'.\n",
      "  np_resource = np.dtype([(\"resource\", np.ubyte, 1)])\n"
     ]
    },
    {
     "name": "stdout",
     "output_type": "stream",
     "text": [
      "WARNING:tensorflow:From /home/filip/miniconda3/envs/tfinstall/lib/python3.7/site-packages/rlgraph/utils/specifiable_server.py:240: The name tf.train.SessionRunHook is deprecated. Please use tf.estimator.SessionRunHook instead.\n",
      "\n",
      "23-12-04 18:41:29:WARNING:From /home/filip/miniconda3/envs/tfinstall/lib/python3.7/site-packages/rlgraph/utils/specifiable_server.py:240: The name tf.train.SessionRunHook is deprecated. Please use tf.estimator.SessionRunHook instead.\n",
      "\n"
     ]
    },
    {
     "name": "stderr",
     "output_type": "stream",
     "text": [
      "/home/filip/miniconda3/envs/tfinstall/lib/python3.7/site-packages/tensorboard/compat/tensorflow_stub/dtypes.py:541: FutureWarning: Passing (type, 1) or '1type' as a synonym of type is deprecated; in a future version of numpy, it will be understood as (type, (1,)) / '(1,)type'.\n",
      "  _np_qint8 = np.dtype([(\"qint8\", np.int8, 1)])\n",
      "/home/filip/miniconda3/envs/tfinstall/lib/python3.7/site-packages/tensorboard/compat/tensorflow_stub/dtypes.py:542: FutureWarning: Passing (type, 1) or '1type' as a synonym of type is deprecated; in a future version of numpy, it will be understood as (type, (1,)) / '(1,)type'.\n",
      "  _np_quint8 = np.dtype([(\"quint8\", np.uint8, 1)])\n",
      "/home/filip/miniconda3/envs/tfinstall/lib/python3.7/site-packages/tensorboard/compat/tensorflow_stub/dtypes.py:543: FutureWarning: Passing (type, 1) or '1type' as a synonym of type is deprecated; in a future version of numpy, it will be understood as (type, (1,)) / '(1,)type'.\n",
      "  _np_qint16 = np.dtype([(\"qint16\", np.int16, 1)])\n",
      "/home/filip/miniconda3/envs/tfinstall/lib/python3.7/site-packages/tensorboard/compat/tensorflow_stub/dtypes.py:544: FutureWarning: Passing (type, 1) or '1type' as a synonym of type is deprecated; in a future version of numpy, it will be understood as (type, (1,)) / '(1,)type'.\n",
      "  _np_quint16 = np.dtype([(\"quint16\", np.uint16, 1)])\n",
      "/home/filip/miniconda3/envs/tfinstall/lib/python3.7/site-packages/tensorboard/compat/tensorflow_stub/dtypes.py:545: FutureWarning: Passing (type, 1) or '1type' as a synonym of type is deprecated; in a future version of numpy, it will be understood as (type, (1,)) / '(1,)type'.\n",
      "  _np_qint32 = np.dtype([(\"qint32\", np.int32, 1)])\n",
      "/home/filip/miniconda3/envs/tfinstall/lib/python3.7/site-packages/tensorboard/compat/tensorflow_stub/dtypes.py:550: FutureWarning: Passing (type, 1) or '1type' as a synonym of type is deprecated; in a future version of numpy, it will be understood as (type, (1,)) / '(1,)type'.\n",
      "  np_resource = np.dtype([(\"resource\", np.ubyte, 1)])\n"
     ]
    },
    {
     "name": "stdout",
     "output_type": "stream",
     "text": [
      "WARNING:tensorflow:\n",
      "The TensorFlow contrib module will not be included in TensorFlow 2.0.\n",
      "For more information, please see:\n",
      "  * https://github.com/tensorflow/community/blob/master/rfcs/20180907-contrib-sunset.md\n",
      "  * https://github.com/tensorflow/addons\n",
      "  * https://github.com/tensorflow/io (for I/O related ops)\n",
      "If you depend on functionality not listed there, please file an issue.\n",
      "\n",
      "23-12-04 18:41:30:WARNING:\n",
      "The TensorFlow contrib module will not be included in TensorFlow 2.0.\n",
      "For more information, please see:\n",
      "  * https://github.com/tensorflow/community/blob/master/rfcs/20180907-contrib-sunset.md\n",
      "  * https://github.com/tensorflow/addons\n",
      "  * https://github.com/tensorflow/io (for I/O related ops)\n",
      "If you depend on functionality not listed there, please file an issue.\n",
      "\n"
     ]
    }
   ],
   "source": [
    "import json\n",
    "\n",
    "import sys\n",
    "sys.path.append(\"../\")\n",
    "\n",
    "from rlcache.backend import storage_from_config\n",
    "from rlcache.cache_constants import CacheInformation\n",
    "from rlcache.observer import ObservationType\n",
    "from rlcache.strategies.strategies_from_config import strategies_from_config\n",
    "%load_ext autoreload\n",
    "%autoreload 2"
   ]
  },
  {
   "cell_type": "code",
   "execution_count": 36,
   "metadata": {
    "pycharm": {
     "is_executing": false,
     "metadata": false,
     "name": "#%%\n"
    }
   },
   "outputs": [
    {
     "name": "stdout",
     "output_type": "stream",
     "text": [
      "23-12-04 18:57:55:INFO:Parsed state space definition: Floatbox((4,) <class 'numpy.float32'> )\n",
      "23-12-04 18:57:55:INFO:Parsed action space definition: Intbox(() <class 'numpy.int32'> )\n",
      "23-12-04 18:57:55:INFO:No preprocessing required.\n",
      "23-12-04 18:57:55:INFO:Execution spec is: {'mode': 'single', 'distributed_spec': None, 'disable_monitoring': False, 'gpu_spec': {'gpus_enabled': False, 'max_usable_gpus': 0, 'fake_gpus_if_necessary': False, 'cuda_devices': None, 'per_process_gpu_memory_fraction': None, 'allow_memory_growth': False}, 'device_strategy': 'default', 'default_device': None, 'device_map': {}, 'session_config': {'type': 'monitored-training-session', 'allow_soft_placement': True, 'log_device_placement': False}, 'seed': None, 'enable_profiler': False, 'profiler_frequency': 1000, 'enable_timeline': False, 'timeline_frequency': 1}\n",
      "23-12-04 18:57:55:WARNING:`device_map` given for device-strategy=`default`. Map will be ignored. Use device-strategy=`custom` together with a `device_map`.\n",
      "23-12-04 18:57:55:INFO:Initializing graph executor with default device strategy. Backend will assign all visible devices.\n",
      "23-12-04 18:57:55:INFO:GPUs enabled: False. Usable GPUs: None\n",
      "23-12-04 18:57:55:INFO:Components created: 50\n",
      "23-12-04 18:57:58:INFO:Meta-graph build completed in 3.2532388819381595 s.\n",
      "23-12-04 18:57:58:INFO:Meta-graph op-records generated: 913\n",
      "23-12-04 18:58:01:INFO:Computation-Graph build completed in 2.5602041371166706 s (93 iterations).\n",
      "23-12-04 18:58:01:INFO:Actual graph ops generated: 2288\n",
      "23-12-04 18:58:01:INFO:Number of trainable parameters: 13060\n",
      "23-12-04 18:58:01:INFO:Checking if all visible devices are in use for strategy: default. Available devices are: ['/device:CPU:0'].\n",
      "23-12-04 18:58:01:WARNING:Warning: Device /device:CPU:0 is usable but has not been assigned.\n",
      "23-12-04 18:58:01:INFO:Setting up singular monitored session for non-distributed mode. Session config: allow_soft_placement: true\n",
      "\n",
      "INFO:tensorflow:Graph was finalized.\n",
      "23-12-04 18:58:01:INFO:Graph was finalized.\n",
      "INFO:tensorflow:Running local_init_op.\n",
      "23-12-04 18:58:01:INFO:Running local_init_op.\n",
      "INFO:tensorflow:Done running local_init_op.\n",
      "23-12-04 18:58:01:INFO:Done running local_init_op.\n"
     ]
    }
   ],
   "source": [
    "config_file = '../configs/rl_eviction_strategy.json'\n",
    "with open(config_file, 'r') as fp:\n",
    "    CONFIG = json.load(fp)\n",
    "# CONFIG['cache_manager_settings']['eviction_strategy_settings']['cache_capacity'] = 2\n",
    "\n",
    "exp_name = CONFIG['experiment_name']\n",
    "results_dir = f'results/notebooks/{exp_name}'\n",
    "cache = storage_from_config(CONFIG['cache_backend_settings'])\n",
    "shared_cache_info = CacheInformation(cache.capacity, cache.size)\n",
    "\n",
    "_ , eviction_strategy, _ = strategies_from_config(\n",
    "    CONFIG['cache_manager_settings'], results_dir, shared_cache_info\n",
    ")"
   ]
  },
  {
   "cell_type": "code",
   "execution_count": 22,
   "metadata": {
    "pycharm": {
     "is_executing": false,
     "metadata": false,
     "name": "#%%\n"
    }
   },
   "outputs": [],
   "source": [
    "key_should_be_cached = 'cache'\n",
    "dummy_values =  {'field1': '2Ki\"-2$>z\\'087Vq.7d\"+:)Ec1Iw7/`0Y5(#<%Fm\"$:4%h6G\\'\\'0 !M=#\"6=;j\"C+86p;+>9Vy?L546z9@1=Ze3/`?^y0Vo7/|94n/',\n",
    "             'field0': '(Ei#Lw*4404n0>z22<\"]5)8*$/b;Q345~2Aq\\':8!6:=Q7-Z1((l76j;%>)Du?A7,#f/1t*&d=Ke#:\";@#,]o,A}.!b9Ic;(>17r;',\n",
    "                 'field7': '=/>0Pu:M59P)$(>$G9);j\"Ik(&,(44=;>1*,7Ai&Y+(#6)Ri/6\"996)R#8!b?Ms\\'#4-2.= |-(v+24\\'Ge3E!35x\\'+4![{#Tu(%\"9', \n",
    "                 'field6': ',(d&\\\\!\"?>5),3%(%Xw?D-$(n4Rw\\'%./:,!Ls:7$(Ay9949@3(.f\"_m7Sq/B=4X{;:.(?b\"L%==8<[i802 62 ^q\"?t6%09D5;E\\' ', \n",
    "                 'field9': '(344S)-_%4:\"\\'_a6&. ?n*Ks:.p.>$6+t\\' 8)A+-Ho)((9Ig,,4,?h-\\'b/@m/>x&E74]{6A+1> 09~5[u7F%>4`+?64J#=485Ym2',\n",
    "                 'field8': '&Ls.Z3,H90S!(Gc7?\"#F)-Q97&v\\'-\"/ t*@\\x7f>-z/Qs >&,,2=X1=M9&=v#9*#)|7^c [!)\\\\7&\\'j3!n3$t?Ay\\'U!4Hy%-4%[7>L)%',\n",
    "                 'field3': \"/.`;%h>&j/K3-G{7V%1Uy>'&$\\\\-4E%8(t+F= ? )-d%\\\\\\x7f6R)9H)$A')I\\x7f+<23Di/I7>Yc>W{$B5)/>3*z:Je 2`'5r+Uq>^?&Rs#\", \n",
    "                 'field2': '7B; ,|,#|>:40Yc*^y6\"*51p\\'1z7[#-X=-Su$Pc\"Y\\x7f\\'.d;Ma8\\\\-- ~7+,9+t$Y{/Mg\"3l.@u1J!$?\"(Gy2Fa:0d.Si92,4M32Cu#',\n",
    "                 'field5': '+*6 \\\\g\"9d/:: !:!$26 8 A+60l2 v 4n#P\\'7^)!J72021\\'t##r>;,8De;X--2b2*z$)* >f%@c3<85Ay37z9Aq/R5*O7) b3Ku>', \n",
    "                 'field4': '(Ca2<:*Hg7O/26l>-27;0<T)8Wm?.6+2*1^}>+ 0No;Ss2Dg>3h2]q!+*1Ec1Xg.]3&3~.?0\\'<.$Ru3)j3,.?Q1-L!#Py\\'&,\"$v&'}\n",
    "\n",
    "\n",
    "key_should_not_be_cached = 'dontcache'"
   ]
  },
  {
   "cell_type": "code",
   "execution_count": 23,
   "metadata": {
    "pycharm": {
     "is_executing": false,
     "metadata": false,
     "name": "#%%\n"
    }
   },
   "outputs": [
    {
     "name": "stdout",
     "output_type": "stream",
     "text": [
      "23-12-04 18:49:37:INFO:0,dontcache,ObservationType.Write\n",
      "23-12-04 18:49:37:INFO:0,cache,ObservationType.Write\n",
      "23-12-04 18:49:37:INFO:0,cache,ObservationType.Hit\n",
      "23-12-04 18:49:37:INFO:0,cache,ObservationType.Hit\n",
      "23-12-04 18:49:37:INFO:0,cache,ObservationType.Hit\n",
      "23-12-04 18:49:37:INFO:0,cache,ObservationType.Hit\n",
      "23-12-04 18:49:37:INFO:0,cache,ObservationType.Hit\n",
      "23-12-04 18:49:37:INFO:0,cache,ObservationType.Hit\n",
      "23-12-04 18:49:37:INFO:0,cache,ObservationType.Hit\n",
      "23-12-04 18:49:37:INFO:0,cache,ObservationType.Hit\n",
      "23-12-04 18:49:37:INFO:0,dontcache,ObservationType.Hit\n"
     ]
    }
   ],
   "source": [
    "cache.set(key_should_not_be_cached, dummy_values, ttl=120)\n",
    "cache.set(key_should_be_cached, dummy_values, ttl=120)\n",
    "eviction_strategy.observe(key_should_not_be_cached, ObservationType.Write, {'cache_stats': shared_cache_info, 'ttl': 120})\n",
    "eviction_strategy.observe(key_should_be_cached, ObservationType.Write, {'cache_stats': shared_cache_info, 'ttl': 120})\n",
    "eviction_strategy.observe(key_should_be_cached, ObservationType.Hit, {'cache_stats': shared_cache_info})\n",
    "eviction_strategy.observe(key_should_be_cached, ObservationType.Hit, {'cache_stats': shared_cache_info})\n",
    "eviction_strategy.observe(key_should_be_cached, ObservationType.Hit, {'cache_stats': shared_cache_info})\n",
    "eviction_strategy.observe(key_should_be_cached, ObservationType.Hit, {'cache_stats': shared_cache_info})\n",
    "eviction_strategy.observe(key_should_be_cached, ObservationType.Hit, {'cache_stats': shared_cache_info})\n",
    "eviction_strategy.observe(key_should_be_cached, ObservationType.Hit, {'cache_stats': shared_cache_info})\n",
    "eviction_strategy.observe(key_should_be_cached, ObservationType.Hit, {'cache_stats': shared_cache_info})\n",
    "eviction_strategy.observe(key_should_be_cached, ObservationType.Hit, {'cache_stats': shared_cache_info})\n",
    "eviction_strategy.observe(key_should_not_be_cached, ObservationType.Hit, {'cache_stats': shared_cache_info})"
   ]
  },
  {
   "cell_type": "code",
   "execution_count": 24,
   "metadata": {
    "pycharm": {
     "is_executing": false,
     "metadata": false,
     "name": "#%%\n"
    }
   },
   "outputs": [
    {
     "data": {
      "text/plain": [
       "[]"
      ]
     },
     "execution_count": 24,
     "metadata": {},
     "output_type": "execute_result"
    }
   ],
   "source": [
    "eviction_strategy.trim_cache(cache)"
   ]
  },
  {
   "cell_type": "code",
   "execution_count": 33,
   "metadata": {
    "pycharm": {
     "is_executing": false,
     "metadata": false,
     "name": "#%%\n"
    }
   },
   "outputs": [
    {
     "name": "stdout",
     "output_type": "stream",
     "text": [
      "23-12-04 18:57:42:INFO:0,dontcache,ObservationType.Invalidate\n"
     ]
    }
   ],
   "source": [
    "eviction_strategy.observe(key_should_not_be_cached, ObservationType.Invalidate, {'cache_stats': shared_cache_info})"
   ]
  },
  {
   "cell_type": "code",
   "execution_count": 34,
   "metadata": {
    "pycharm": {
     "is_executing": false,
     "metadata": false,
     "name": "#%%\n"
    }
   },
   "outputs": [
    {
     "name": "stdout",
     "output_type": "stream",
     "text": [
      "23-12-04 18:57:43:INFO:0,cache,ObservationType.Miss\n"
     ]
    }
   ],
   "source": [
    "eviction_strategy.observe(key_should_be_cached, ObservationType.Miss, {'cache_stats': shared_cache_info})"
   ]
  },
  {
   "cell_type": "code",
   "execution_count": 35,
   "metadata": {
    "pycharm": {
     "is_executing": false,
     "metadata": false,
     "name": "#%%\n"
    }
   },
   "outputs": [
    {
     "name": "stdout",
     "output_type": "stream",
     "text": [
      "23-12-04 18:57:44:INFO:0,cache,ObservationType.Hit\n"
     ]
    },
    {
     "ename": "KeyError",
     "evalue": "'cache'",
     "output_type": "error",
     "traceback": [
      "\u001b[0;31m---------------------------------------------------------------------------\u001b[0m",
      "\u001b[0;31mKeyError\u001b[0m                                  Traceback (most recent call last)",
      "\u001b[0;32m/tmp/ipykernel_1578914/3904913708.py\u001b[0m in \u001b[0;36m<module>\u001b[0;34m\u001b[0m\n\u001b[1;32m      1\u001b[0m \u001b[0;31m# hit\u001b[0m\u001b[0;34m\u001b[0m\u001b[0;34m\u001b[0m\u001b[0;34m\u001b[0m\u001b[0m\n\u001b[0;32m----> 2\u001b[0;31m \u001b[0meviction_strategy\u001b[0m\u001b[0;34m.\u001b[0m\u001b[0mobserve\u001b[0m\u001b[0;34m(\u001b[0m\u001b[0mkey_should_be_cached\u001b[0m\u001b[0;34m,\u001b[0m \u001b[0mObservationType\u001b[0m\u001b[0;34m.\u001b[0m\u001b[0mHit\u001b[0m\u001b[0;34m,\u001b[0m \u001b[0;34m{\u001b[0m\u001b[0;34m'cache_stats'\u001b[0m\u001b[0;34m:\u001b[0m \u001b[0mshared_cache_info\u001b[0m\u001b[0;34m}\u001b[0m\u001b[0;34m)\u001b[0m\u001b[0;34m\u001b[0m\u001b[0;34m\u001b[0m\u001b[0m\n\u001b[0m\u001b[1;32m      3\u001b[0m \u001b[0meviction_strategy\u001b[0m\u001b[0;34m.\u001b[0m\u001b[0mobserve\u001b[0m\u001b[0;34m(\u001b[0m\u001b[0mkey_should_be_cached\u001b[0m\u001b[0;34m,\u001b[0m \u001b[0mObservationType\u001b[0m\u001b[0;34m.\u001b[0m\u001b[0mHit\u001b[0m\u001b[0;34m,\u001b[0m \u001b[0;34m{\u001b[0m\u001b[0;34m'cache_stats'\u001b[0m\u001b[0;34m:\u001b[0m \u001b[0mshared_cache_info\u001b[0m\u001b[0;34m}\u001b[0m\u001b[0;34m)\u001b[0m\u001b[0;34m\u001b[0m\u001b[0;34m\u001b[0m\u001b[0m\n\u001b[1;32m      4\u001b[0m \u001b[0meviction_strategy\u001b[0m\u001b[0;34m.\u001b[0m\u001b[0mobserve\u001b[0m\u001b[0;34m(\u001b[0m\u001b[0mkey_should_be_cached\u001b[0m\u001b[0;34m,\u001b[0m \u001b[0mObservationType\u001b[0m\u001b[0;34m.\u001b[0m\u001b[0mHit\u001b[0m\u001b[0;34m,\u001b[0m \u001b[0;34m{\u001b[0m\u001b[0;34m'cache_stats'\u001b[0m\u001b[0;34m:\u001b[0m \u001b[0mshared_cache_info\u001b[0m\u001b[0;34m}\u001b[0m\u001b[0;34m)\u001b[0m\u001b[0;34m\u001b[0m\u001b[0;34m\u001b[0m\u001b[0m\n\u001b[1;32m      5\u001b[0m \u001b[0;31m# expire\u001b[0m\u001b[0;34m\u001b[0m\u001b[0;34m\u001b[0m\u001b[0;34m\u001b[0m\u001b[0m\n",
      "\u001b[0;32m/hdd/Dev/cacheopt/rlcache/rlcache/strategies/eviction_strategies/rl_eviction_strategy.py\u001b[0m in \u001b[0;36mobserve\u001b[0;34m(self, key, observation_type, info)\u001b[0m\n\u001b[1;32m    114\u001b[0m         \u001b[0;32melif\u001b[0m \u001b[0mobservation_type\u001b[0m \u001b[0;34m==\u001b[0m \u001b[0mObservationType\u001b[0m\u001b[0;34m.\u001b[0m\u001b[0mHit\u001b[0m\u001b[0;34m:\u001b[0m\u001b[0;34m\u001b[0m\u001b[0;34m\u001b[0m\u001b[0m\n\u001b[1;32m    115\u001b[0m             \u001b[0;31m# Cache hit, update the hit record of this key in the cache\u001b[0m\u001b[0;34m\u001b[0m\u001b[0;34m\u001b[0m\u001b[0;34m\u001b[0m\u001b[0m\n\u001b[0;32m--> 116\u001b[0;31m             \u001b[0mstored_view\u001b[0m \u001b[0;34m=\u001b[0m \u001b[0mself\u001b[0m\u001b[0;34m.\u001b[0m\u001b[0mview_of_the_cache\u001b[0m\u001b[0;34m[\u001b[0m\u001b[0mkey\u001b[0m\u001b[0;34m]\u001b[0m\u001b[0;34m[\u001b[0m\u001b[0;34m'state'\u001b[0m\u001b[0;34m]\u001b[0m\u001b[0;34m\u001b[0m\u001b[0;34m\u001b[0m\u001b[0m\n\u001b[0m\u001b[1;32m    117\u001b[0m             \u001b[0mstored_view\u001b[0m\u001b[0;34m.\u001b[0m\u001b[0mhit_count\u001b[0m \u001b[0;34m+=\u001b[0m \u001b[0;36m1\u001b[0m\u001b[0;34m\u001b[0m\u001b[0;34m\u001b[0m\u001b[0m\n\u001b[1;32m    118\u001b[0m \u001b[0;34m\u001b[0m\u001b[0m\n",
      "\u001b[0;31mKeyError\u001b[0m: 'cache'"
     ]
    }
   ],
   "source": [
    "# hit\n",
    "eviction_strategy.observe(key_should_be_cached, ObservationType.Hit, {'cache_stats': shared_cache_info})\n",
    "eviction_strategy.observe(key_should_be_cached, ObservationType.Hit, {'cache_stats': shared_cache_info})\n",
    "eviction_strategy.observe(key_should_be_cached, ObservationType.Hit, {'cache_stats': shared_cache_info})\n",
    "# expire\n",
    "eviction_strategy.observe(key_should_be_cached, ObservationType.Expiration, {'cache_stats': shared_cache_info})"
   ]
  },
  {
   "cell_type": "code",
   "execution_count": null,
   "metadata": {},
   "outputs": [],
   "source": []
  }
 ],
 "metadata": {
  "kernelspec": {
   "display_name": "Python 3 (ipykernel)",
   "language": "python",
   "name": "python3"
  },
  "language_info": {
   "codemirror_mode": {
    "name": "ipython",
    "version": 3
   },
   "file_extension": ".py",
   "mimetype": "text/x-python",
   "name": "python",
   "nbconvert_exporter": "python",
   "pygments_lexer": "ipython3",
   "version": "3.7.12"
  },
  "stem_cell": {
   "cell_type": "raw",
   "metadata": {
    "pycharm": {
     "metadata": false
    }
   },
   "source": ""
  }
 },
 "nbformat": 4,
 "nbformat_minor": 1
}
