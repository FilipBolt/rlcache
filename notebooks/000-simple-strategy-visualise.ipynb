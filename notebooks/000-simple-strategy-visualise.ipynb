{
  "cells": [
    {
      "cell_type": "code",
      "execution_count": 6,
      "metadata": {
        "collapsed": true,
        "pycharm": {
          "is_executing": false
        }
      },
      "outputs": [
        {
          "name": "stdout",
          "text": [
            "The autoreload extension is already loaded. To reload it, use:\n  %reload_ext autoreload\n"
          ],
          "output_type": "stream"
        }
      ],
      "source": "import math\nimport matplotlib.pyplot as plt\nimport pandas as pd\nimport rlcache.utils.visualiser as viz\nplt.close(\u0027all\u0027)\n%matplotlib inline\n%load_ext autoreload\n%autoreload 2"
    },
    {
      "cell_type": "code",
      "execution_count": 28,
      "outputs": [],
      "source": "directory \u003d \u0027results/rl_multi_strategy/cache_capacity_5000/2019_05_18_20_39\u0027\neviction_name \u003d \u0027rl_multi_strategy_\u0027",
      "metadata": {
        "pycharm": {
          "metadata": false,
          "name": "#%%\n",
          "is_executing": false
        }
      }
    },
    {
      "cell_type": "code",
      "execution_count": 29,
      "outputs": [
        {
          "data": {
            "text/plain": "\u003cFigure size 432x288 with 1 Axes\u003e",
            "image/png": "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\u003d\u003d\n"
          },
          "metadata": {
            "needs_background": "light"
          },
          "output_type": "display_data"
        }
      ],
      "source": "viz.plot_hitrate(directory)",
      "metadata": {
        "pycharm": {
          "metadata": false,
          "name": "#%%\n",
          "is_executing": false
        }
      }
    },
    {
      "cell_type": "code",
      "execution_count": 30,
      "outputs": [
        {
          "traceback": [
            "\u001b[0;31m---------------------------------------------------------------------------\u001b[0m",
            "\u001b[0;31mFileNotFoundError\u001b[0m                         Traceback (most recent call last)",
            "\u001b[0;32m\u003cipython-input-30-c28154f78c15\u003e\u001b[0m in \u001b[0;36m\u003cmodule\u003e\u001b[0;34m\u001b[0m\n\u001b[0;32m----\u003e 1\u001b[0;31m \u001b[0mperf\u001b[0m \u001b[0;34m\u003d\u001b[0m \u001b[0mviz\u001b[0m\u001b[0;34m.\u001b[0m\u001b[0mplot_eviction_precision\u001b[0m\u001b[0;34m(\u001b[0m\u001b[0mdirectory\u001b[0m\u001b[0;34m,\u001b[0m \u001b[0meviction_name\u001b[0m\u001b[0;34m)\u001b[0m\u001b[0;34m\u001b[0m\u001b[0;34m\u001b[0m\u001b[0m\n\u001b[0m",
            "\u001b[0;32m~/Projects/rlcache/rlcache/utils/visualiser.py\u001b[0m in \u001b[0;36mplot_eviction_precision\u001b[0;34m(directory, eviction_name)\u001b[0m\n\u001b[1;32m     22\u001b[0m \u001b[0;32mdef\u001b[0m \u001b[0mplot_eviction_precision\u001b[0m\u001b[0;34m(\u001b[0m\u001b[0mdirectory\u001b[0m\u001b[0;34m,\u001b[0m \u001b[0meviction_name\u001b[0m\u001b[0;34m)\u001b[0m\u001b[0;34m:\u001b[0m\u001b[0;34m\u001b[0m\u001b[0;34m\u001b[0m\u001b[0m\n\u001b[1;32m     23\u001b[0m     eviction_performance_df \u003d pd.read_csv(f\u0027{directory}/eviction_strategy/{eviction_name}performance_logger.log\u0027,\n\u001b[0;32m---\u003e 24\u001b[0;31m                                           names\u003d[\u0027timestamp\u0027, \u0027episode\u0027, \u0027state\u0027])\n\u001b[0m\u001b[1;32m     25\u001b[0m     eviction_performance \u003d eviction_performance_df.groupby([\u0027episode\u0027, \u0027state\u0027]).count().unstack(0)[\u0027timestamp\u0027].fillna(\n\u001b[1;32m     26\u001b[0m         0).transpose()\n",
            "\u001b[0;32m~/anaconda3/envs/rlcache/lib/python3.7/site-packages/pandas/io/parsers.py\u001b[0m in \u001b[0;36mparser_f\u001b[0;34m(filepath_or_buffer, sep, delimiter, header, names, index_col, usecols, squeeze, prefix, mangle_dupe_cols, dtype, engine, converters, true_values, false_values, skipinitialspace, skiprows, skipfooter, nrows, na_values, keep_default_na, na_filter, verbose, skip_blank_lines, parse_dates, infer_datetime_format, keep_date_col, date_parser, dayfirst, iterator, chunksize, compression, thousands, decimal, lineterminator, quotechar, quoting, doublequote, escapechar, comment, encoding, dialect, tupleize_cols, error_bad_lines, warn_bad_lines, delim_whitespace, low_memory, memory_map, float_precision)\u001b[0m\n\u001b[1;32m    700\u001b[0m                     skip_blank_lines\u003dskip_blank_lines)\n\u001b[1;32m    701\u001b[0m \u001b[0;34m\u001b[0m\u001b[0m\n\u001b[0;32m--\u003e 702\u001b[0;31m         \u001b[0;32mreturn\u001b[0m \u001b[0m_read\u001b[0m\u001b[0;34m(\u001b[0m\u001b[0mfilepath_or_buffer\u001b[0m\u001b[0;34m,\u001b[0m \u001b[0mkwds\u001b[0m\u001b[0;34m)\u001b[0m\u001b[0;34m\u001b[0m\u001b[0;34m\u001b[0m\u001b[0m\n\u001b[0m\u001b[1;32m    703\u001b[0m \u001b[0;34m\u001b[0m\u001b[0m\n\u001b[1;32m    704\u001b[0m     \u001b[0mparser_f\u001b[0m\u001b[0;34m.\u001b[0m\u001b[0m__name__\u001b[0m \u001b[0;34m\u003d\u001b[0m \u001b[0mname\u001b[0m\u001b[0;34m\u001b[0m\u001b[0;34m\u001b[0m\u001b[0m\n",
            "\u001b[0;32m~/anaconda3/envs/rlcache/lib/python3.7/site-packages/pandas/io/parsers.py\u001b[0m in \u001b[0;36m_read\u001b[0;34m(filepath_or_buffer, kwds)\u001b[0m\n\u001b[1;32m    427\u001b[0m \u001b[0;34m\u001b[0m\u001b[0m\n\u001b[1;32m    428\u001b[0m     \u001b[0;31m# Create the parser.\u001b[0m\u001b[0;34m\u001b[0m\u001b[0;34m\u001b[0m\u001b[0;34m\u001b[0m\u001b[0m\n\u001b[0;32m--\u003e 429\u001b[0;31m     \u001b[0mparser\u001b[0m \u001b[0;34m\u003d\u001b[0m \u001b[0mTextFileReader\u001b[0m\u001b[0;34m(\u001b[0m\u001b[0mfilepath_or_buffer\u001b[0m\u001b[0;34m,\u001b[0m \u001b[0;34m**\u001b[0m\u001b[0mkwds\u001b[0m\u001b[0;34m)\u001b[0m\u001b[0;34m\u001b[0m\u001b[0;34m\u001b[0m\u001b[0m\n\u001b[0m\u001b[1;32m    430\u001b[0m \u001b[0;34m\u001b[0m\u001b[0m\n\u001b[1;32m    431\u001b[0m     \u001b[0;32mif\u001b[0m \u001b[0mchunksize\u001b[0m \u001b[0;32mor\u001b[0m \u001b[0miterator\u001b[0m\u001b[0;34m:\u001b[0m\u001b[0;34m\u001b[0m\u001b[0;34m\u001b[0m\u001b[0m\n",
            "\u001b[0;32m~/anaconda3/envs/rlcache/lib/python3.7/site-packages/pandas/io/parsers.py\u001b[0m in \u001b[0;36m__init__\u001b[0;34m(self, f, engine, **kwds)\u001b[0m\n\u001b[1;32m    893\u001b[0m             \u001b[0mself\u001b[0m\u001b[0;34m.\u001b[0m\u001b[0moptions\u001b[0m\u001b[0;34m[\u001b[0m\u001b[0;34m\u0027has_index_names\u0027\u001b[0m\u001b[0;34m]\u001b[0m \u001b[0;34m\u003d\u001b[0m \u001b[0mkwds\u001b[0m\u001b[0;34m[\u001b[0m\u001b[0;34m\u0027has_index_names\u0027\u001b[0m\u001b[0;34m]\u001b[0m\u001b[0;34m\u001b[0m\u001b[0;34m\u001b[0m\u001b[0m\n\u001b[1;32m    894\u001b[0m \u001b[0;34m\u001b[0m\u001b[0m\n\u001b[0;32m--\u003e 895\u001b[0;31m         \u001b[0mself\u001b[0m\u001b[0;34m.\u001b[0m\u001b[0m_make_engine\u001b[0m\u001b[0;34m(\u001b[0m\u001b[0mself\u001b[0m\u001b[0;34m.\u001b[0m\u001b[0mengine\u001b[0m\u001b[0;34m)\u001b[0m\u001b[0;34m\u001b[0m\u001b[0;34m\u001b[0m\u001b[0m\n\u001b[0m\u001b[1;32m    896\u001b[0m \u001b[0;34m\u001b[0m\u001b[0m\n\u001b[1;32m    897\u001b[0m     \u001b[0;32mdef\u001b[0m \u001b[0mclose\u001b[0m\u001b[0;34m(\u001b[0m\u001b[0mself\u001b[0m\u001b[0;34m)\u001b[0m\u001b[0;34m:\u001b[0m\u001b[0;34m\u001b[0m\u001b[0;34m\u001b[0m\u001b[0m\n",
            "\u001b[0;32m~/anaconda3/envs/rlcache/lib/python3.7/site-packages/pandas/io/parsers.py\u001b[0m in \u001b[0;36m_make_engine\u001b[0;34m(self, engine)\u001b[0m\n\u001b[1;32m   1120\u001b[0m     \u001b[0;32mdef\u001b[0m \u001b[0m_make_engine\u001b[0m\u001b[0;34m(\u001b[0m\u001b[0mself\u001b[0m\u001b[0;34m,\u001b[0m \u001b[0mengine\u001b[0m\u001b[0;34m\u003d\u001b[0m\u001b[0;34m\u0027c\u0027\u001b[0m\u001b[0;34m)\u001b[0m\u001b[0;34m:\u001b[0m\u001b[0;34m\u001b[0m\u001b[0;34m\u001b[0m\u001b[0m\n\u001b[1;32m   1121\u001b[0m         \u001b[0;32mif\u001b[0m \u001b[0mengine\u001b[0m \u001b[0;34m\u003d\u003d\u001b[0m \u001b[0;34m\u0027c\u0027\u001b[0m\u001b[0;34m:\u001b[0m\u001b[0;34m\u001b[0m\u001b[0;34m\u001b[0m\u001b[0m\n\u001b[0;32m-\u003e 1122\u001b[0;31m             \u001b[0mself\u001b[0m\u001b[0;34m.\u001b[0m\u001b[0m_engine\u001b[0m \u001b[0;34m\u003d\u001b[0m \u001b[0mCParserWrapper\u001b[0m\u001b[0;34m(\u001b[0m\u001b[0mself\u001b[0m\u001b[0;34m.\u001b[0m\u001b[0mf\u001b[0m\u001b[0;34m,\u001b[0m \u001b[0;34m**\u001b[0m\u001b[0mself\u001b[0m\u001b[0;34m.\u001b[0m\u001b[0moptions\u001b[0m\u001b[0;34m)\u001b[0m\u001b[0;34m\u001b[0m\u001b[0;34m\u001b[0m\u001b[0m\n\u001b[0m\u001b[1;32m   1123\u001b[0m         \u001b[0;32melse\u001b[0m\u001b[0;34m:\u001b[0m\u001b[0;34m\u001b[0m\u001b[0;34m\u001b[0m\u001b[0m\n\u001b[1;32m   1124\u001b[0m             \u001b[0;32mif\u001b[0m \u001b[0mengine\u001b[0m \u001b[0;34m\u003d\u003d\u001b[0m \u001b[0;34m\u0027python\u0027\u001b[0m\u001b[0;34m:\u001b[0m\u001b[0;34m\u001b[0m\u001b[0;34m\u001b[0m\u001b[0m\n",
            "\u001b[0;32m~/anaconda3/envs/rlcache/lib/python3.7/site-packages/pandas/io/parsers.py\u001b[0m in \u001b[0;36m__init__\u001b[0;34m(self, src, **kwds)\u001b[0m\n\u001b[1;32m   1851\u001b[0m         \u001b[0mkwds\u001b[0m\u001b[0;34m[\u001b[0m\u001b[0;34m\u0027usecols\u0027\u001b[0m\u001b[0;34m]\u001b[0m \u001b[0;34m\u003d\u001b[0m \u001b[0mself\u001b[0m\u001b[0;34m.\u001b[0m\u001b[0musecols\u001b[0m\u001b[0;34m\u001b[0m\u001b[0;34m\u001b[0m\u001b[0m\n\u001b[1;32m   1852\u001b[0m \u001b[0;34m\u001b[0m\u001b[0m\n\u001b[0;32m-\u003e 1853\u001b[0;31m         \u001b[0mself\u001b[0m\u001b[0;34m.\u001b[0m\u001b[0m_reader\u001b[0m \u001b[0;34m\u003d\u001b[0m \u001b[0mparsers\u001b[0m\u001b[0;34m.\u001b[0m\u001b[0mTextReader\u001b[0m\u001b[0;34m(\u001b[0m\u001b[0msrc\u001b[0m\u001b[0;34m,\u001b[0m \u001b[0;34m**\u001b[0m\u001b[0mkwds\u001b[0m\u001b[0;34m)\u001b[0m\u001b[0;34m\u001b[0m\u001b[0;34m\u001b[0m\u001b[0m\n\u001b[0m\u001b[1;32m   1854\u001b[0m         \u001b[0mself\u001b[0m\u001b[0;34m.\u001b[0m\u001b[0munnamed_cols\u001b[0m \u001b[0;34m\u003d\u001b[0m \u001b[0mself\u001b[0m\u001b[0;34m.\u001b[0m\u001b[0m_reader\u001b[0m\u001b[0;34m.\u001b[0m\u001b[0munnamed_cols\u001b[0m\u001b[0;34m\u001b[0m\u001b[0;34m\u001b[0m\u001b[0m\n\u001b[1;32m   1855\u001b[0m \u001b[0;34m\u001b[0m\u001b[0m\n",
            "\u001b[0;32mpandas/_libs/parsers.pyx\u001b[0m in \u001b[0;36mpandas._libs.parsers.TextReader.__cinit__\u001b[0;34m()\u001b[0m\n",
            "\u001b[0;32mpandas/_libs/parsers.pyx\u001b[0m in \u001b[0;36mpandas._libs.parsers.TextReader._setup_parser_source\u001b[0;34m()\u001b[0m\n",
            "\u001b[0;31mFileNotFoundError\u001b[0m: [Errno 2] File b\u0027results/rl_multi_strategy/cache_capacity_5000/2019_05_18_20_39/eviction_strategy/rl_multi_strategy_performance_logger.log\u0027 does not exist: b\u0027results/rl_multi_strategy/cache_capacity_5000/2019_05_18_20_39/eviction_strategy/rl_multi_strategy_performance_logger.log\u0027"
          ],
          "ename": "FileNotFoundError",
          "evalue": "[Errno 2] File b\u0027results/rl_multi_strategy/cache_capacity_5000/2019_05_18_20_39/eviction_strategy/rl_multi_strategy_performance_logger.log\u0027 does not exist: b\u0027results/rl_multi_strategy/cache_capacity_5000/2019_05_18_20_39/eviction_strategy/rl_multi_strategy_performance_logger.log\u0027",
          "output_type": "error"
        }
      ],
      "source": "perf \u003d viz.plot_eviction_precision(directory, eviction_name)",
      "metadata": {
        "pycharm": {
          "metadata": false,
          "name": "#%%\n",
          "is_executing": false
        }
      }
    },
    {
      "cell_type": "code",
      "execution_count": null,
      "outputs": [],
      "source": "viz.calculate_f1_measure(perf)",
      "metadata": {
        "pycharm": {
          "metadata": false,
          "name": "#%%\n",
          "is_executing": true
        }
      }
    },
    {
      "cell_type": "code",
      "execution_count": null,
      "outputs": [],
      "source": "",
      "metadata": {
        "pycharm": {
          "metadata": false,
          "name": "#%%\n"
        }
      }
    }
  ],
  "metadata": {
    "language_info": {
      "codemirror_mode": {
        "name": "ipython",
        "version": 2
      },
      "file_extension": ".py",
      "mimetype": "text/x-python",
      "name": "python",
      "nbconvert_exporter": "python",
      "pygments_lexer": "ipython2",
      "version": "2.7.6"
    },
    "kernelspec": {
      "name": "python3",
      "language": "python",
      "display_name": "Python 3"
    }
  },
  "nbformat": 4,
  "nbformat_minor": 0
}