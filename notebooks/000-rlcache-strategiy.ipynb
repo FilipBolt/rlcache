{
  "cells": [
    {
      "cell_type": "code",
      "execution_count": 2,
      "metadata": {
        "collapsed": true,
        "pycharm": {
          "is_executing": false
        }
      },
      "outputs": [],
      "source": "from collections import Counter\n\nfrom rlcache.backend import storage_from_config\nfrom rlcache.cache_constants import CacheStatus\nfrom rlcache.cache_manager import CacheManager\nfrom rlcache.strategies.caching_strategies import caching_strategy_from_config\n%load_ext autoreload\n%autoreload 2"
    },
    {
      "cell_type": "code",
      "execution_count": 3,
      "outputs": [],
      "source": "\nCONFIG \u003d {\n  \"experiment_name\": \"RLCaching strategy only\",\n  \"cache_backend_settings\": {\n    \"type\": \"inmemory\",\n    \"capacity\": 5000\n  },\n  \"database_backend_settings\": {\n    \"type\": \"inmemory\",\n    \"capacity\": 1000000000\n  },\n  \"cache_manager_settings\": {\n    \"caching_strategy_settings\": {\n      \"type\": \"rl_driven\"\n    },\n    \"ttl_strategy_settings\": {\n      \"type\": \"fixed\",\n      \"ttl\": 500\n    },\n    \"eviction_strategy_settings\": {\n      \"type\": \"lru\"\n    }\n  }\n}\nDATABASE_BACKEND \u003d storage_from_config(CONFIG[\u0027database_backend_settings\u0027])\nCACHE_BACKEND \u003d storage_from_config(CONFIG[\u0027cache_backend_settings\u0027])\nCACHE_MANAGER \u003d CacheManager(config\u003dCONFIG[\u0027cache_manager_settings\u0027],\n                             cache\u003dCACHE_BACKEND,\n                             backend\u003dDATABASE_BACKEND)\nREQUESTS_COUNTER \u003d Counter()",
      "metadata": {
        "pycharm": {
          "metadata": false,
          "name": "#%%\n",
          "is_executing": false
        }
      }
    },
    {
      "cell_type": "code",
      "execution_count": 6,
      "outputs": [],
      "source": "caching_config \u003d {\"type\": \"rl_driven\"}\n    \ncaching_strategy \u003d caching_strategy_from_config(caching_config)",
      "metadata": {
        "pycharm": {
          "metadata": false,
          "name": "#%%\n",
          "is_executing": false
        }
      }
    },
    {
      "cell_type": "code",
      "execution_count": 9,
      "outputs": [
        {
          "data": {
            "text/plain": "True"
          },
          "metadata": {},
          "output_type": "execute_result",
          "execution_count": 9
        }
      ],
      "source": "dummy_key \u003d \u0027user6868534811834787757\u0027\ndummy_values \u003d  {\u0027field1\u0027: \u00272Ki\"-2$\u003ez\\\u0027087Vq.7d\"+:)Ec1Iw7/`0Y5(#\u003c%Fm\"$:4%h6G\\\u0027\\\u00270 !M\u003d#\"6\u003d;j\"C+86p;+\u003e9Vy?L546z9@1\u003dZe3/`?^y0Vo7/|94n/\u0027,\n                 \u0027field0\u0027: \u0027(Ei#Lw*4404n0\u003ez22\u003c\"]5)8*$/b;Q345~2Aq\\\u0027:8!6:\u003dQ7-Z1((l76j;%\u003e)Du?A7,#f/1t*\u0026d\u003dKe#:\";@#,]o,A}.!b9Ic;(\u003e17r;\u0027,\n                 \u0027field7\u0027: \u0027\u003d/\u003e0Pu:M59P)$(\u003e$G9);j\"Ik(\u0026,(44\u003d;\u003e1*,7Ai\u0026Y+(#6)Ri/6\"996)R#8!b?Ms\\\u0027#4-2.\u003d |-(v+24\\\u0027Ge3E!35x\\\u0027+4![{#Tu(%\"9\u0027, \n                 \u0027field6\u0027: \u0027,(d\u0026\\\\!\"?\u003e5),3%(%Xw?D-$(n4Rw\\\u0027%./:,!Ls:7$(Ay9949@3(.f\"_m7Sq/B\u003d4X{;:.(?b\"L%\u003d\u003d8\u003c[i802 62 ^q\"?t6%09D5;E\\\u0027 \u0027, \n                 \u0027field9\u0027: \u0027(344S)-_%4:\"\\\u0027_a6\u0026. ?n*Ks:.p.\u003e$6+t\\\u0027 8)A+-Ho)((9Ig,,4,?h-\\\u0027b/@m/\u003ex\u0026E74]{6A+1\u003e 09~5[u7F%\u003e4`+?64J#\u003d485Ym2\u0027,\n                 \u0027field8\u0027: \u0027\u0026Ls.Z3,H90S!(Gc7?\"#F)-Q97\u0026v\\\u0027-\"/ t*@\\x7f\u003e-z/Qs \u003e\u0026,,2\u003dX1\u003dM9\u0026\u003dv#9*#)|7^c [!)\\\\7\u0026\\\u0027j3!n3$t?Ay\\\u0027U!4Hy%-4%[7\u003eL)%\u0027,\n                 \u0027field3\u0027: \"/.`;%h\u003e\u0026j/K3-G{7V%1Uy\u003e\u0027\u0026$\\\\-4E%8(t+F\u003d ? )-d%\\\\\\x7f6R)9H)$A\u0027)I\\x7f+\u003c23Di/I7\u003eYc\u003eW{$B5)/\u003e3*z:Je 2`\u00275r+Uq\u003e^?\u0026Rs#\", \n                 \u0027field2\u0027: \u00277B; ,|,#|\u003e:40Yc*^y6\"*51p\\\u00271z7[#-X\u003d-Su$Pc\"Y\\x7f\\\u0027.d;Ma8\\\\-- ~7+,9+t$Y{/Mg\"3l.@u1J!$?\"(Gy2Fa:0d.Si92,4M32Cu#\u0027,\n                 \u0027field5\u0027: \u0027+*6 \\\\g\"9d/:: !:!$26 8 A+60l2 v 4n#P\\\u00277^)!J72021\\\u0027t##r\u003e;,8De;X--2b2*z$)* \u003ef%@c3\u003c85Ay37z9Aq/R5*O7) b3Ku\u003e\u0027, \n                 \u0027field4\u0027: \u0027(Ca2\u003c:*Hg7O/26l\u003e-27;0\u003cT)8Wm?.6+2*1^}\u003e+ 0No;Ss2Dg\u003e3h2]q!+*1Ec1Xg.]3\u00263~.?0\\\u0027\u003c.$Ru3)j3,.?Q1-L!#Py\\\u0027\u0026,\"$v\u0026\u0027}\n\n# TODO the workload generator generates stupid values\ncaching_strategy.should_cache(dummy_key, dummy_values, CacheStatus.New)",
      "metadata": {
        "pycharm": {
          "metadata": false,
          "name": "#%%\n",
          "is_executing": false
        }
      }
    },
    {
      "cell_type": "code",
      "execution_count": null,
      "outputs": [],
      "source": "\n",
      "metadata": {
        "pycharm": {
          "metadata": false,
          "name": "#%%\n"
        }
      }
    }
  ],
  "metadata": {
    "language_info": {
      "codemirror_mode": {
        "name": "ipython",
        "version": 2
      },
      "file_extension": ".py",
      "mimetype": "text/x-python",
      "name": "python",
      "nbconvert_exporter": "python",
      "pygments_lexer": "ipython2",
      "version": "2.7.6"
    },
    "kernelspec": {
      "name": "python3",
      "language": "python",
      "display_name": "Python 3"
    }
  },
  "nbformat": 4,
  "nbformat_minor": 0
}