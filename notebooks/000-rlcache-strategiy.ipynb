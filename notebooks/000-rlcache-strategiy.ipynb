{
  "cells": [
    {
      "cell_type": "code",
      "execution_count": 199,
      "metadata": {
        "collapsed": true,
        "pycharm": {
          "is_executing": false
        }
      },
      "outputs": [
        {
          "name": "stdout",
          "text": [
            "The autoreload extension is already loaded. To reload it, use:\n  %reload_ext autoreload\n"
          ],
          "output_type": "stream"
        },
        {
          "data": {
            "text/plain": "\" TODO later\\nDATABASE_BACKEND \u003d storage_from_config(CONFIG[\u0027database_backend_settings\u0027])\\nCACHE_BACKEND \u003d storage_from_config(CONFIG[\u0027cache_backend_settings\u0027])\\nCACHE_MANAGER \u003d CacheManager(config\u003dCONFIG[\u0027cache_manager_settings\u0027],\\n                             cache\u003dCACHE_BACKEND,\\n                             backend\u003dDATABASE_BACKEND)\\nREQUESTS_COUNTER \u003d Counter()\\n\""
          },
          "metadata": {},
          "output_type": "execute_result",
          "execution_count": 199
        }
      ],
      "source": "import json\n\nfrom rlcache.cache_constants import CacheStatus\nfrom rlcache.strategies.caching_strategies import caching_strategy_from_config\nfrom rlcache.strategies.caching_strategies.rl_caching_strategy import CachingStrategyRLConverter\n%load_ext autoreload\n%autoreload 2\n\n\"\"\" TODO later\nDATABASE_BACKEND \u003d storage_from_config(CONFIG[\u0027database_backend_settings\u0027])\nCACHE_BACKEND \u003d storage_from_config(CONFIG[\u0027cache_backend_settings\u0027])\nCACHE_MANAGER \u003d CacheManager(config\u003dCONFIG[\u0027cache_manager_settings\u0027],\n                             cache\u003dCACHE_BACKEND,\n                             backend\u003dDATABASE_BACKEND)\nREQUESTS_COUNTER \u003d Counter()\n\"\"\""
    },
    {
      "cell_type": "code",
      "execution_count": 215,
      "outputs": [
        {
          "name": "stdout",
          "text": [
            "19-04-04 18:29:00:INFO:Parsed state space definition: Floatbox((12,) \u003cclass \u0027numpy.float32\u0027\u003e )\n",
            "19-04-04 18:29:00:INFO:Parsed action space definition: Intbox((1,) \u003cclass \u0027numpy.int32\u0027\u003e )\n",
            "19-04-04 18:29:00:INFO:No preprocessing required.\n",
            "19-04-04 18:29:00:INFO:Execution spec is: {\u0027seed\u0027: 15, \u0027gpu_spec\u0027: {\u0027gpus_enabled\u0027: True}, \u0027mode\u0027: \u0027single\u0027, \u0027distributed_spec\u0027: None, \u0027disable_monitoring\u0027: False, \u0027device_strategy\u0027: \u0027default\u0027, \u0027default_device\u0027: None, \u0027device_map\u0027: {}, \u0027session_config\u0027: {\u0027type\u0027: \u0027monitored-training-session\u0027, \u0027allow_soft_placement\u0027: True, \u0027log_device_placement\u0027: False}, \u0027enable_profiler\u0027: False, \u0027profiler_frequency\u0027: 1000, \u0027enable_timeline\u0027: False, \u0027timeline_frequency\u0027: 1}\n",
            "19-04-04 18:29:00:WARNING:WARNING: max_usable_gpus is 1 but only 0 gpus are locally visible. Using all available GPUs.\n",
            "19-04-04 18:29:00:INFO:GPU strategy initialized with GPUs enabled: []\n",
            "19-04-04 18:29:00:WARNING:`device_map` given for device-strategy\u003d`default`. Map will be ignored. Use device-strategy\u003d`custom` together with a `device_map`.\n",
            "19-04-04 18:29:00:INFO:Initializing graph executor with default device strategy. Backend will assign all visible devices.\n",
            "19-04-04 18:29:00:INFO:GPUs enabled: True. Usable GPUs: []\n",
            "19-04-04 18:29:00:INFO:Initializing TensorFlow graph with seed 15\n",
            "19-04-04 18:29:00:INFO:Components created: 46\n",
            "19-04-04 18:29:03:INFO:Meta-graph build completed in 2.8949626050016377 s.\n",
            "19-04-04 18:29:03:INFO:Meta-graph op-records generated: 713\n",
            "19-04-04 18:29:05:INFO:Computation-Graph build completed in 2.686759111995343 s (83 iterations).\n",
            "19-04-04 18:29:05:INFO:Actual graph ops generated: 1129\n",
            "19-04-04 18:29:05:INFO:Number of trainable parameters: 1819\n",
            "19-04-04 18:29:05:INFO:Checking if all visible devices are in use for strategy: default. Available devices are: [\u0027/device:CPU:0\u0027].\n",
            "19-04-04 18:29:05:WARNING:Warning: Device /device:CPU:0 is usable but has not been assigned.\n",
            "19-04-04 18:29:06:INFO:Setting up singular monitored session for non-distributed mode. Session config: gpu_options {\n}\nallow_soft_placement: true\n\n",
            "INFO:tensorflow:Graph was finalized.\n",
            "19-04-04 18:29:06:INFO:Graph was finalized.\n",
            "INFO:tensorflow:Running local_init_op.\n",
            "19-04-04 18:29:06:INFO:Running local_init_op.\n",
            "INFO:tensorflow:Done running local_init_op.\n",
            "19-04-04 18:29:06:INFO:Done running local_init_op.\n"
          ],
          "output_type": "stream"
        },
        {
          "name": "stderr",
          "text": [
            "/home/samialab/anaconda3/envs/rlcache/lib/python3.6/site-packages/rlgraph/graphs/tensorflow_executor.py:757: DeprecationWarning: The \u0027warn\u0027 method is deprecated, use \u0027warning\u0027 instead\n  \"Using all available GPUs.\".format(self.max_usable_gpus, len(gpu_names)))\n",
            "/home/samialab/.local/lib/python3.6/site-packages/numpy/lib/type_check.py:546: DeprecationWarning: np.asscalar(a) is deprecated since NumPy v1.16, use a.item() instead\n  \u0027a.item() instead\u0027, DeprecationWarning, stacklevel\u003d1)\n"
          ],
          "output_type": "stream"
        }
      ],
      "source": "config_file \u003d \u0027configs/rl_caching_strategy.json\u0027\nwith open(config_file, \u0027r\u0027) as fp:\n    CONFIG \u003d json.load(fp)\ncaching_config \u003d CONFIG[\u0027cache_manager_settings\u0027][\u0027caching_strategy_settings\u0027]\ncaching_strategy \u003d caching_strategy_from_config(caching_config)\n",
      "metadata": {
        "pycharm": {
          "metadata": false,
          "name": "#%%\n",
          "is_executing": false
        }
      }
    },
    {
      "cell_type": "code",
      "execution_count": 225,
      "outputs": [
        {
          "data": {
            "text/plain": "False"
          },
          "metadata": {},
          "output_type": "execute_result",
          "execution_count": 225
        }
      ],
      "source": "dummy_key \u003d \u0027user6868534811834787757\u0027\ndummy_values \u003d  {\u0027field1\u0027: \u00272Ki\"-2$\u003ez\\\u0027087Vq.7d\"+:)Ec1Iw7/`0Y5(#\u003c%Fm\"$:4%h6G\\\u0027\\\u00270 !M\u003d#\"6\u003d;j\"C+86p;+\u003e9Vy?L546z9@1\u003dZe3/`?^y0Vo7/|94n/\u0027,\n                 \u0027field0\u0027: \u0027(Ei#Lw*4404n0\u003ez22\u003c\"]5)8*$/b;Q345~2Aq\\\u0027:8!6:\u003dQ7-Z1((l76j;%\u003e)Du?A7,#f/1t*\u0026d\u003dKe#:\";@#,]o,A}.!b9Ic;(\u003e17r;\u0027,\n                 \u0027field7\u0027: \u0027\u003d/\u003e0Pu:M59P)$(\u003e$G9);j\"Ik(\u0026,(44\u003d;\u003e1*,7Ai\u0026Y+(#6)Ri/6\"996)R#8!b?Ms\\\u0027#4-2.\u003d |-(v+24\\\u0027Ge3E!35x\\\u0027+4![{#Tu(%\"9\u0027, \n                 \u0027field6\u0027: \u0027,(d\u0026\\\\!\"?\u003e5),3%(%Xw?D-$(n4Rw\\\u0027%./:,!Ls:7$(Ay9949@3(.f\"_m7Sq/B\u003d4X{;:.(?b\"L%\u003d\u003d8\u003c[i802 62 ^q\"?t6%09D5;E\\\u0027 \u0027, \n                 \u0027field9\u0027: \u0027(344S)-_%4:\"\\\u0027_a6\u0026. ?n*Ks:.p.\u003e$6+t\\\u0027 8)A+-Ho)((9Ig,,4,?h-\\\u0027b/@m/\u003ex\u0026E74]{6A+1\u003e 09~5[u7F%\u003e4`+?64J#\u003d485Ym2\u0027,\n                 \u0027field8\u0027: \u0027\u0026Ls.Z3,H90S!(Gc7?\"#F)-Q97\u0026v\\\u0027-\"/ t*@\\x7f\u003e-z/Qs \u003e\u0026,,2\u003dX1\u003dM9\u0026\u003dv#9*#)|7^c [!)\\\\7\u0026\\\u0027j3!n3$t?Ay\\\u0027U!4Hy%-4%[7\u003eL)%\u0027,\n                 \u0027field3\u0027: \"/.`;%h\u003e\u0026j/K3-G{7V%1Uy\u003e\u0027\u0026$\\\\-4E%8(t+F\u003d ? )-d%\\\\\\x7f6R)9H)$A\u0027)I\\x7f+\u003c23Di/I7\u003eYc\u003eW{$B5)/\u003e3*z:Je 2`\u00275r+Uq\u003e^?\u0026Rs#\", \n                 \u0027field2\u0027: \u00277B; ,|,#|\u003e:40Yc*^y6\"*51p\\\u00271z7[#-X\u003d-Su$Pc\"Y\\x7f\\\u0027.d;Ma8\\\\-- ~7+,9+t$Y{/Mg\"3l.@u1J!$?\"(Gy2Fa:0d.Si92,4M32Cu#\u0027,\n                 \u0027field5\u0027: \u0027+*6 \\\\g\"9d/:: !:!$26 8 A+60l2 v 4n#P\\\u00277^)!J72021\\\u0027t##r\u003e;,8De;X--2b2*z$)* \u003ef%@c3\u003c85Ay37z9Aq/R5*O7) b3Ku\u003e\u0027, \n                 \u0027field4\u0027: \u0027(Ca2\u003c:*Hg7O/26l\u003e-27;0\u003cT)8Wm?.6+2*1^}\u003e+ 0No;Ss2Dg\u003e3h2]q!+*1Ec1Xg.]3\u00263~.?0\\\u0027\u003c.$Ru3)j3,.?Q1-L!#Py\\\u0027\u0026,\"$v\u0026\u0027}\n\n# TODO the workload generator generates stupid values\ncaching_strategy.should_cache(dummy_key, dummy_values, CacheStatus.New)",
      "metadata": {
        "pycharm": {
          "metadata": false,
          "name": "#%%\n",
          "is_executing": false
        }
      }
    },
    {
      "cell_type": "code",
      "execution_count": 226,
      "outputs": [
        {
          "data": {
            "text/plain": "array([ 2, 13,  3,  4,  5,  6,  7,  8,  9, 10, 11, 12])"
          },
          "metadata": {},
          "output_type": "execute_result",
          "execution_count": 226
        }
      ],
      "source": "converter_test \u003d CachingStrategyRLConverter()\nconverter_test.system_to_agent_state(key\u003ddummy_key, \n                                     values\u003ddummy_values, \n                                     cache_status\u003dCacheStatus.New)",
      "metadata": {
        "pycharm": {
          "metadata": false,
          "name": "#%%\n",
          "is_executing": false
        }
      }
    },
    {
      "cell_type": "code",
      "execution_count": 98,
      "outputs": [],
      "source": "from rlcache.backend.inmemory_ttl import TTLCache\n\ntest_ttl_cache \u003d TTLCache(CONFIG[\u0027cache_backend_settings\u0027]) \n\ntest_ttl_cache.set(dummy_key, dummy_values, ttl\u003d20)\nprint(test_ttl_cache.get(dummy_key))\n",
      "metadata": {
        "pycharm": {
          "metadata": false,
          "name": "#%%\n",
          "is_executing": false
        }
      }
    },
    {
      "cell_type": "code",
      "execution_count": null,
      "outputs": [],
      "source": "\n",
      "metadata": {
        "pycharm": {
          "metadata": false,
          "name": "#%%\n"
        }
      }
    }
  ],
  "metadata": {
    "language_info": {
      "codemirror_mode": {
        "name": "ipython",
        "version": 2
      },
      "file_extension": ".py",
      "mimetype": "text/x-python",
      "name": "python",
      "nbconvert_exporter": "python",
      "pygments_lexer": "ipython2",
      "version": "2.7.6"
    },
    "kernelspec": {
      "name": "python3",
      "language": "python",
      "display_name": "Python 3"
    }
  },
  "nbformat": 4,
  "nbformat_minor": 0
}