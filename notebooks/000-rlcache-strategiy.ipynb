{
  "cells": [
    {
      "cell_type": "code",
      "execution_count": 5,
      "metadata": {
        "collapsed": true,
        "pycharm": {
          "is_executing": false
        }
      },
      "outputs": [
        {
          "data": {
            "text/plain": "\" TODO later\\nDATABASE_BACKEND \u003d storage_from_config(CONFIG[\u0027database_backend_settings\u0027])\\n\\nCACHE_BACKEND \u003d storage_from_config(CONFIG[\u0027cache_backend_settings\u0027])\\nCACHE_MANAGER \u003d CacheManager(config\u003dCONFIG[\u0027cache_manager_settings\u0027],\\n                             cache\u003dCACHE_BACKEND,\\n                             backend\u003dDATABASE_BACKEND)\\nREQUESTS_COUNTER \u003d Counter()\\n\""
          },
          "metadata": {},
          "output_type": "execute_result",
          "execution_count": 5
        }
      ],
      "source": "import json\n\nfrom rlcache.backend import storage_from_config\nfrom rlcache.cache_constants import CacheInformation, OperationType\nfrom rlcache.observer import ObservationType\nfrom rlcache.strategies.strategies_from_config import strategies_from_config\n%load_ext autoreload\n%autoreload 2\n\n\"\"\" TODO later\nDATABASE_BACKEND \u003d storage_from_config(CONFIG[\u0027database_backend_settings\u0027])\n\nCACHE_BACKEND \u003d storage_from_config(CONFIG[\u0027cache_backend_settings\u0027])\nCACHE_MANAGER \u003d CacheManager(config\u003dCONFIG[\u0027cache_manager_settings\u0027],\n                             cache\u003dCACHE_BACKEND,\n                             backend\u003dDATABASE_BACKEND)\nREQUESTS_COUNTER \u003d Counter()\n\"\"\""
    },
    {
      "cell_type": "code",
      "execution_count": 90,
      "outputs": [
        {
          "name": "stdout",
          "text": [
            "19-04-10 12:38:43:INFO:Parsed state space definition: Floatbox((14,) \u003cclass \u0027numpy.float32\u0027\u003e )\n",
            "19-04-10 12:38:43:INFO:Parsed action space definition: Intbox((1,) \u003cclass \u0027numpy.int32\u0027\u003e )\n",
            "19-04-10 12:38:43:INFO:No preprocessing required.\n",
            "19-04-10 12:38:43:INFO:Execution spec is: {\u0027seed\u0027: 15, \u0027gpu_spec\u0027: {\u0027gpus_enabled\u0027: True, \u0027max_usable_gpus\u0027: 1, \u0027allow_memory_growth\u0027: True}, \u0027disable_monitoring\u0027: True, \u0027session_config\u0027: {\u0027allow_soft_placement\u0027: True, \u0027device_count\u0027: {\u0027CPU\u0027: 1}, \u0027inter_op_parallelism_threads\u0027: 1, \u0027intra_op_parallelism_threads\u0027: 1, \u0027type\u0027: \u0027monitored-training-session\u0027, \u0027log_device_placement\u0027: False}, \u0027mode\u0027: \u0027single\u0027, \u0027distributed_spec\u0027: None, \u0027device_strategy\u0027: \u0027default\u0027, \u0027default_device\u0027: None, \u0027device_map\u0027: {}, \u0027enable_profiler\u0027: False, \u0027profiler_frequency\u0027: 1000, \u0027enable_timeline\u0027: False, \u0027timeline_frequency\u0027: 1}\n",
            "19-04-10 12:38:43:WARNING:WARNING: max_usable_gpus is 1 but only 0 gpus are locally visible. Using all available GPUs.\n",
            "19-04-10 12:38:43:INFO:GPU strategy initialized with GPUs enabled: []\n",
            "19-04-10 12:38:43:WARNING:`device_map` given for device-strategy\u003d`default`. Map will be ignored. Use device-strategy\u003d`custom` together with a `device_map`.\n",
            "19-04-10 12:38:43:INFO:Initializing graph executor with default device strategy. Backend will assign all visible devices.\n",
            "19-04-10 12:38:43:INFO:GPUs enabled: True. Usable GPUs: []\n",
            "19-04-10 12:38:43:INFO:Initializing TensorFlow graph with seed 15\n",
            "19-04-10 12:38:43:INFO:Components created: 48\n",
            "ERROR:tensorflow:\u003d\u003d\u003d\u003d\u003d\u003d\u003d\u003d\u003d\u003d\u003d\u003d\u003d\u003d\u003d\u003d\u003d\u003d\u003d\u003d\u003d\u003d\u003d\u003d\u003d\u003d\u003d\u003d\u003d\u003d\u003d\u003d\u003d\u003d\nObject was never used (type \u003cclass \u0027tensorflow.python.framework.ops.Tensor\u0027\u003e):\n\u003ctf.Tensor \u0027report_uninitialized_variables/boolean_mask/GatherV2:0\u0027 shape\u003d(?,) dtype\u003dstring\u003e\nIf you want to mark it as used call its \"mark_used()\" method.\nIt was originally created here:\n  File \"/home/samialab/anaconda3/envs/rlcache/lib/python3.7/site-packages/IPython/core/interactiveshell.py\", line 3316, in run_code\n    return outflag  File \"\u003cipython-input-62-6be15b7f395a\u003e\", line 8, in \u003cmodule\u003e\n    caching_strategy, _, _ \u003d strategies_from_config(CONFIG[\u0027cache_manager_settings\u0027])  File \"/home/samialab/Projects/rlcache/rlcache/strategies/strategies_from_config.py\", line 27, in strategies_from_config\n    return [caching_strategy, eviction_strategy, ttl_strategy]  File \"/home/samialab/Projects/rlcache/rlcache/strategies/strategies_from_config.py\", line 42, in caching_strategy_from_config\n    return RLCachingStrategy(config, results_dir)  File \"/home/samialab/Projects/rlcache/rlcache/strategies/caching_strategies/rl_caching_strategy.py\", line 84, in __init__\n    self.episode_num \u003d 0  File \"/home/samialab/anaconda3/envs/rlcache/lib/python3.7/site-packages/rlgraph/utils/specifiable.py\", line 160, in from_spec\n    return specifiable_object  File \"/home/samialab/anaconda3/envs/rlcache/lib/python3.7/site-packages/rlgraph/agents/dqn_agent.py\", line 152, in __init__\n    self.graph_built \u003d True  File \"/home/samialab/anaconda3/envs/rlcache/lib/python3.7/site-packages/rlgraph/agents/agent.py\", line 307, in _build_graph\n    return self.graph_executor.build(root_components, input_spaces, **kwargs)  File \"/home/samialab/anaconda3/envs/rlcache/lib/python3.7/site-packages/rlgraph/graphs/tensorflow_executor.py\", line 216, in build\n    build_times\u003dbuild_times,  File \"/home/samialab/anaconda3/envs/rlcache/lib/python3.7/site-packages/rlgraph/graphs/tensorflow_executor.py\", line 369, in finish_graph_setup\n    self.setup_session(hooks)  File \"/home/samialab/anaconda3/envs/rlcache/lib/python3.7/site-packages/rlgraph/graphs/tensorflow_executor.py\", line 507, in setup_scaffold\n    copy_from_scaffold\u003dNone  File \"/home/samialab/anaconda3/envs/rlcache/lib/python3.7/site-packages/tensorflow/python/util/tf_should_use.py\", line 193, in wrapped\n    return _add_should_use_warning(fn(*args, **kwargs))\n\u003d\u003d\u003d\u003d\u003d\u003d\u003d\u003d\u003d\u003d\u003d\u003d\u003d\u003d\u003d\u003d\u003d\u003d\u003d\u003d\u003d\u003d\u003d\u003d\u003d\u003d\u003d\u003d\u003d\u003d\u003d\u003d\u003d\u003d\n",
            "19-04-10 12:38:44:ERROR:\u003d\u003d\u003d\u003d\u003d\u003d\u003d\u003d\u003d\u003d\u003d\u003d\u003d\u003d\u003d\u003d\u003d\u003d\u003d\u003d\u003d\u003d\u003d\u003d\u003d\u003d\u003d\u003d\u003d\u003d\u003d\u003d\u003d\u003d\nObject was never used (type \u003cclass \u0027tensorflow.python.framework.ops.Tensor\u0027\u003e):\n\u003ctf.Tensor \u0027report_uninitialized_variables/boolean_mask/GatherV2:0\u0027 shape\u003d(?,) dtype\u003dstring\u003e\nIf you want to mark it as used call its \"mark_used()\" method.\nIt was originally created here:\n  File \"/home/samialab/anaconda3/envs/rlcache/lib/python3.7/site-packages/IPython/core/interactiveshell.py\", line 3316, in run_code\n    return outflag  File \"\u003cipython-input-62-6be15b7f395a\u003e\", line 8, in \u003cmodule\u003e\n    caching_strategy, _, _ \u003d strategies_from_config(CONFIG[\u0027cache_manager_settings\u0027])  File \"/home/samialab/Projects/rlcache/rlcache/strategies/strategies_from_config.py\", line 27, in strategies_from_config\n    return [caching_strategy, eviction_strategy, ttl_strategy]  File \"/home/samialab/Projects/rlcache/rlcache/strategies/strategies_from_config.py\", line 42, in caching_strategy_from_config\n    return RLCachingStrategy(config, results_dir)  File \"/home/samialab/Projects/rlcache/rlcache/strategies/caching_strategies/rl_caching_strategy.py\", line 84, in __init__\n    self.episode_num \u003d 0  File \"/home/samialab/anaconda3/envs/rlcache/lib/python3.7/site-packages/rlgraph/utils/specifiable.py\", line 160, in from_spec\n    return specifiable_object  File \"/home/samialab/anaconda3/envs/rlcache/lib/python3.7/site-packages/rlgraph/agents/dqn_agent.py\", line 152, in __init__\n    self.graph_built \u003d True  File \"/home/samialab/anaconda3/envs/rlcache/lib/python3.7/site-packages/rlgraph/agents/agent.py\", line 307, in _build_graph\n    return self.graph_executor.build(root_components, input_spaces, **kwargs)  File \"/home/samialab/anaconda3/envs/rlcache/lib/python3.7/site-packages/rlgraph/graphs/tensorflow_executor.py\", line 216, in build\n    build_times\u003dbuild_times,  File \"/home/samialab/anaconda3/envs/rlcache/lib/python3.7/site-packages/rlgraph/graphs/tensorflow_executor.py\", line 369, in finish_graph_setup\n    self.setup_session(hooks)  File \"/home/samialab/anaconda3/envs/rlcache/lib/python3.7/site-packages/rlgraph/graphs/tensorflow_executor.py\", line 507, in setup_scaffold\n    copy_from_scaffold\u003dNone  File \"/home/samialab/anaconda3/envs/rlcache/lib/python3.7/site-packages/tensorflow/python/util/tf_should_use.py\", line 193, in wrapped\n    return _add_should_use_warning(fn(*args, **kwargs))\n\u003d\u003d\u003d\u003d\u003d\u003d\u003d\u003d\u003d\u003d\u003d\u003d\u003d\u003d\u003d\u003d\u003d\u003d\u003d\u003d\u003d\u003d\u003d\u003d\u003d\u003d\u003d\u003d\u003d\u003d\u003d\u003d\u003d\u003d\n",
            "19-04-10 12:38:47:INFO:Meta-graph build completed in 3.6518862640077714 s.\n",
            "19-04-10 12:38:47:INFO:Meta-graph op-records generated: 757\n",
            "19-04-10 12:38:50:INFO:Computation-Graph build completed in 2.904898309992859 s (86 iterations).\n",
            "19-04-10 12:38:50:INFO:Actual graph ops generated: 1240\n",
            "19-04-10 12:38:50:INFO:Number of trainable parameters: 1419\n",
            "19-04-10 12:38:50:INFO:Checking if all visible devices are in use for strategy: default. Available devices are: [\u0027/device:CPU:0\u0027].\n",
            "19-04-10 12:38:50:WARNING:Warning: Device /device:CPU:0 is usable but has not been assigned.\n",
            "19-04-10 12:38:50:INFO:Setting up default session for non-distributed mode. Session config: device_count {\n  key: \"CPU\"\n  value: 1\n}\nintra_op_parallelism_threads: 1\ninter_op_parallelism_threads: 1\ngpu_options {\n  allow_growth: true\n}\nallow_soft_placement: true\n\n"
          ],
          "output_type": "stream"
        },
        {
          "name": "stderr",
          "text": [
            "/home/samialab/anaconda3/envs/rlcache/lib/python3.7/site-packages/rlgraph/graphs/tensorflow_executor.py:757: DeprecationWarning: The \u0027warn\u0027 method is deprecated, use \u0027warning\u0027 instead\n  \"Using all available GPUs.\".format(self.max_usable_gpus, len(gpu_names)))\n",
            "/home/samialab/anaconda3/envs/rlcache/lib/python3.7/site-packages/numpy/lib/type_check.py:546: DeprecationWarning: np.asscalar(a) is deprecated since NumPy v1.16, use a.item() instead\n  \u0027a.item() instead\u0027, DeprecationWarning, stacklevel\u003d1)\n"
          ],
          "output_type": "stream"
        }
      ],
      "source": "config_file \u003d \u0027configs/rl_caching_strategy.json\u0027\nwith open(config_file, \u0027r\u0027) as fp:\n    CONFIG \u003d json.load(fp)\n\ncache \u003d storage_from_config(CONFIG[\u0027cache_backend_settings\u0027])\nshared_cache_info \u003d CacheInformation(cache.capacity, cache.size)\n\ncaching_strategy, _, _ \u003d strategies_from_config(CONFIG[\u0027cache_manager_settings\u0027])\n",
      "metadata": {
        "pycharm": {
          "metadata": false,
          "name": "#%%\n",
          "is_executing": false
        }
      }
    },
    {
      "cell_type": "code",
      "execution_count": 91,
      "outputs": [],
      "source": "key_should_be_cached \u003d \u0027cache\u0027\ndummy_values \u003d  {\u0027field1\u0027: \u00272Ki\"-2$\u003ez\\\u0027087Vq.7d\"+:)Ec1Iw7/`0Y5(#\u003c%Fm\"$:4%h6G\\\u0027\\\u00270 !M\u003d#\"6\u003d;j\"C+86p;+\u003e9Vy?L546z9@1\u003dZe3/`?^y0Vo7/|94n/\u0027,\n             \u0027field0\u0027: \u0027(Ei#Lw*4404n0\u003ez22\u003c\"]5)8*$/b;Q345~2Aq\\\u0027:8!6:\u003dQ7-Z1((l76j;%\u003e)Du?A7,#f/1t*\u0026d\u003dKe#:\";@#,]o,A}.!b9Ic;(\u003e17r;\u0027,\n                 \u0027field7\u0027: \u0027\u003d/\u003e0Pu:M59P)$(\u003e$G9);j\"Ik(\u0026,(44\u003d;\u003e1*,7Ai\u0026Y+(#6)Ri/6\"996)R#8!b?Ms\\\u0027#4-2.\u003d |-(v+24\\\u0027Ge3E!35x\\\u0027+4![{#Tu(%\"9\u0027, \n                 \u0027field6\u0027: \u0027,(d\u0026\\\\!\"?\u003e5),3%(%Xw?D-$(n4Rw\\\u0027%./:,!Ls:7$(Ay9949@3(.f\"_m7Sq/B\u003d4X{;:.(?b\"L%\u003d\u003d8\u003c[i802 62 ^q\"?t6%09D5;E\\\u0027 \u0027, \n                 \u0027field9\u0027: \u0027(344S)-_%4:\"\\\u0027_a6\u0026. ?n*Ks:.p.\u003e$6+t\\\u0027 8)A+-Ho)((9Ig,,4,?h-\\\u0027b/@m/\u003ex\u0026E74]{6A+1\u003e 09~5[u7F%\u003e4`+?64J#\u003d485Ym2\u0027,\n                 \u0027field8\u0027: \u0027\u0026Ls.Z3,H90S!(Gc7?\"#F)-Q97\u0026v\\\u0027-\"/ t*@\\x7f\u003e-z/Qs \u003e\u0026,,2\u003dX1\u003dM9\u0026\u003dv#9*#)|7^c [!)\\\\7\u0026\\\u0027j3!n3$t?Ay\\\u0027U!4Hy%-4%[7\u003eL)%\u0027,\n                 \u0027field3\u0027: \"/.`;%h\u003e\u0026j/K3-G{7V%1Uy\u003e\u0027\u0026$\\\\-4E%8(t+F\u003d ? )-d%\\\\\\x7f6R)9H)$A\u0027)I\\x7f+\u003c23Di/I7\u003eYc\u003eW{$B5)/\u003e3*z:Je 2`\u00275r+Uq\u003e^?\u0026Rs#\", \n                 \u0027field2\u0027: \u00277B; ,|,#|\u003e:40Yc*^y6\"*51p\\\u00271z7[#-X\u003d-Su$Pc\"Y\\x7f\\\u0027.d;Ma8\\\\-- ~7+,9+t$Y{/Mg\"3l.@u1J!$?\"(Gy2Fa:0d.Si92,4M32Cu#\u0027,\n                 \u0027field5\u0027: \u0027+*6 \\\\g\"9d/:: !:!$26 8 A+60l2 v 4n#P\\\u00277^)!J72021\\\u0027t##r\u003e;,8De;X--2b2*z$)* \u003ef%@c3\u003c85Ay37z9Aq/R5*O7) b3Ku\u003e\u0027, \n                 \u0027field4\u0027: \u0027(Ca2\u003c:*Hg7O/26l\u003e-27;0\u003cT)8Wm?.6+2*1^}\u003e+ 0No;Ss2Dg\u003e3h2]q!+*1Ec1Xg.]3\u00263~.?0\\\u0027\u003c.$Ru3)j3,.?Q1-L!#Py\\\u0027\u0026,\"$v\u0026\u0027}\n\n\nkey_should_not_be_cached \u003d \u0027dontcache\u0027",
      "metadata": {
        "pycharm": {
          "metadata": false,
          "name": "#%%\n",
          "is_executing": false
        }
      }
    },
    {
      "cell_type": "code",
      "execution_count": 95,
      "outputs": [],
      "source": "for episode in range(25):\n    should \u003d caching_strategy.should_cache(key_should_be_cached, dummy_values, 50, OperationType.New)\n    if should:\n        for i in range(5):\n            caching_strategy.observe(key_should_be_cached, ObservationType.Hit, {})\n        caching_strategy.observe(key_should_be_cached, ObservationType.Invalidate, {})\n    else:\n        caching_strategy.observe(key_should_be_cached, ObservationType.Miss, {})\n\n\nfor episode in range(25):\n    caching_strategy.should_cache(key_should_not_be_cached, dummy_values, 50, OperationType.New)\n    caching_strategy.observe(key_should_not_be_cached, ObservationType.Invalidate, {})",
      "metadata": {
        "pycharm": {
          "metadata": false,
          "name": "#%%\n",
          "is_executing": false
        }
      }
    },
    {
      "cell_type": "code",
      "execution_count": 113,
      "outputs": [
        {
          "name": "stdout",
          "text": [
            "19-04-10 12:43:37:INFO:Finished episode 0. Reward: 582.\n"
          ],
          "output_type": "stream"
        }
      ],
      "source": "caching_strategy.end_episode()\n",
      "metadata": {
        "pycharm": {
          "metadata": false,
          "name": "#%%\n",
          "is_executing": false
        }
      }
    },
    {
      "cell_type": "code",
      "execution_count": 67,
      "outputs": [],
      "source": "# Convert to unit tests?\nfrom rlcache.strategies.caching_strategies.rl_caching_strategy import _MonitoringEntry\nfrom time import sleep, time \ntest \u003d _MonitoringEntry(\u0027sad\u0027, False, False, time())\nsleep(3)\ntest_2 \u003d _MonitoringEntry(\u0027sad\u0027, False, False, time())\n\nassert test !\u003d test_2",
      "metadata": {
        "pycharm": {
          "metadata": false,
          "name": "#%%\n",
          "is_executing": false
        }
      }
    },
    {
      "cell_type": "code",
      "execution_count": 70,
      "outputs": [
        {
          "traceback": [
            "\u001b[0;31m---------------------------------------------------------------------------\u001b[0m",
            "\u001b[0;31mValueError\u001b[0m                                Traceback (most recent call last)",
            "\u001b[0;32m\u003cipython-input-70-465c0053ad83\u003e\u001b[0m in \u001b[0;36m\u003cmodule\u003e\u001b[0;34m\u001b[0m\n\u001b[1;32m      1\u001b[0m \u001b[0;32mimport\u001b[0m \u001b[0mnumpy\u001b[0m \u001b[0;32mas\u001b[0m \u001b[0mnp\u001b[0m\u001b[0;34m\u001b[0m\u001b[0;34m\u001b[0m\u001b[0m\n\u001b[0;32m----\u003e 2\u001b[0;31m \u001b[0mnp\u001b[0m\u001b[0;34m.\u001b[0m\u001b[0marray\u001b[0m\u001b[0;34m(\u001b[0m\u001b[0mcaching_strategy\u001b[0m\u001b[0;34m.\u001b[0m\u001b[0mepisode_loss\u001b[0m\u001b[0;34m,\u001b[0m \u001b[0mdtype\u001b[0m\u001b[0;34m\u003d\u001b[0m\u001b[0;34m\u0027float32\u0027\u001b[0m\u001b[0;34m)\u001b[0m\u001b[0;34m.\u001b[0m\u001b[0mshape\u001b[0m\u001b[0;34m\u001b[0m\u001b[0;34m\u001b[0m\u001b[0m\n\u001b[0m",
            "\u001b[0;31mValueError\u001b[0m: setting an array element with a sequence."
          ],
          "ename": "ValueError",
          "evalue": "setting an array element with a sequence.",
          "output_type": "error"
        }
      ],
      "source": "import numpy as np\nnp.array(caching_strategy.episode_loss, dtype\u003d\u0027float32\u0027).shape",
      "metadata": {
        "pycharm": {
          "metadata": false,
          "name": "#%%\n",
          "is_executing": false
        }
      }
    },
    {
      "cell_type": "code",
      "execution_count": 111,
      "outputs": [
        {
          "data": {
            "text/plain": "array([[1.0940646e+01],\n       [4.6759337e-01],\n       [1.0940646e+01],\n       [2.8968866e+00],\n       [2.8968866e+00],\n       [4.6759337e-01],\n       [6.4395660e-01],\n       [2.6745963e+00],\n       [6.4395660e-01],\n       [6.7685425e-01],\n       [2.8968866e+00],\n       [2.6745963e+00],\n       [6.7685425e-01],\n       [2.6745963e+00],\n       [2.8968866e+00],\n       [1.0940646e+01],\n       [1.3034503e-03],\n       [1.0940646e+01],\n       [1.7564157e-01],\n       [7.6769972e-01],\n       [7.6769972e-01],\n       [4.6759337e-01],\n       [2.8968866e+00],\n       [1.0940646e+01],\n       [6.4395660e-01],\n       [7.6769972e-01],\n       [1.0940646e+01],\n       [7.6769972e-01],\n       [1.3034503e-03],\n       [2.8968866e+00],\n       [2.6745963e+00],\n       [6.4395660e-01],\n       [1.3034503e-03],\n       [1.3034503e-03],\n       [7.6769972e-01],\n       [4.6759337e-01],\n       [7.6769972e-01],\n       [1.3034503e-03],\n       [7.6769972e-01],\n       [1.3034503e-03],\n       [1.3034503e-03],\n       [2.8968866e+00],\n       [1.3034503e-03],\n       [2.8968866e+00],\n       [4.6759337e-01],\n       [1.0940646e+01],\n       [1.0940646e+01],\n       [6.4395660e-01],\n       [1.0940646e+01],\n       [1.0940646e+01],\n       [1.3034503e-03],\n       [4.6759337e-01],\n       [2.6745963e+00],\n       [1.7564157e-01],\n       [2.8968866e+00],\n       [1.7564157e-01],\n       [4.6759337e-01],\n       [7.6769972e-01],\n       [1.3034503e-03],\n       [6.4395660e-01],\n       [4.6759337e-01],\n       [1.3034503e-03],\n       [2.6745963e+00],\n       [6.7685425e-01]], dtype\u003dfloat32)"
          },
          "metadata": {},
          "output_type": "execute_result",
          "execution_count": 111
        }
      ],
      "source": "\nnp.asarray(caching_strategy.agent.update()[1])",
      "metadata": {
        "pycharm": {
          "metadata": false,
          "name": "#%%\n",
          "is_executing": false
        }
      }
    }
  ],
  "metadata": {
    "language_info": {
      "codemirror_mode": {
        "name": "ipython",
        "version": 2
      },
      "file_extension": ".py",
      "mimetype": "text/x-python",
      "name": "python",
      "nbconvert_exporter": "python",
      "pygments_lexer": "ipython2",
      "version": "2.7.6"
    },
    "kernelspec": {
      "name": "python3",
      "language": "python",
      "display_name": "Python 3"
    }
  },
  "nbformat": 4,
  "nbformat_minor": 0
}