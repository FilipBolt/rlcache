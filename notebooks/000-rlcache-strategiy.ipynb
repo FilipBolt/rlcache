{
  "cells": [
    {
      "cell_type": "code",
      "execution_count": 15,
      "metadata": {
        "collapsed": true,
        "pycharm": {
          "is_executing": false
        }
      },
      "outputs": [
        {
          "name": "stdout",
          "text": [
            "The autoreload extension is already loaded. To reload it, use:\n  %reload_ext autoreload\n"
          ],
          "output_type": "stream"
        }
      ],
      "source": "from collections import Counter\n\nfrom rlcache.backend import storage_from_config\nfrom rlcache.cache_constants import CacheStatus\nfrom rlcache.cache_manager import CacheManager\nfrom rlcache.strategies.caching_strategies import caching_strategy_from_config\nfrom rlcache.strategies.caching_strategies.rl_caching_strategy import CachingStrategyRLConverter\n%load_ext autoreload\n%autoreload 2"
    },
    {
      "cell_type": "code",
      "execution_count": 6,
      "outputs": [
        {
          "traceback": [
            "\u001b[0;31m---------------------------------------------------------------------------\u001b[0m",
            "\u001b[0;31mKeyError\u001b[0m                                  Traceback (most recent call last)",
            "\u001b[0;32m\u003cipython-input-6-623ee610e796\u003e\u001b[0m in \u001b[0;36m\u003cmodule\u003e\u001b[0;34m\u001b[0m\n\u001b[1;32m     27\u001b[0m CACHE_MANAGER \u003d CacheManager(config\u003dCONFIG[\u0027cache_manager_settings\u0027],\n\u001b[1;32m     28\u001b[0m                              \u001b[0mcache\u001b[0m\u001b[0;34m\u003d\u001b[0m\u001b[0mCACHE_BACKEND\u001b[0m\u001b[0;34m,\u001b[0m\u001b[0;34m\u001b[0m\u001b[0;34m\u001b[0m\u001b[0m\n\u001b[0;32m---\u003e 29\u001b[0;31m                              backend\u003dDATABASE_BACKEND)\n\u001b[0m\u001b[1;32m     30\u001b[0m \u001b[0mREQUESTS_COUNTER\u001b[0m \u001b[0;34m\u003d\u001b[0m \u001b[0mCounter\u001b[0m\u001b[0;34m(\u001b[0m\u001b[0;34m)\u001b[0m\u001b[0;34m\u001b[0m\u001b[0;34m\u001b[0m\u001b[0m\n",
            "\u001b[0;32m~/Projects/rlcache/rlcache/cache_manager.py\u001b[0m in \u001b[0;36m__init__\u001b[0;34m(self, config, cache, backend)\u001b[0m\n\u001b[1;32m     13\u001b[0m     \u001b[0;32mdef\u001b[0m \u001b[0m__init__\u001b[0m\u001b[0;34m(\u001b[0m\u001b[0mself\u001b[0m\u001b[0;34m,\u001b[0m \u001b[0mconfig\u001b[0m\u001b[0;34m:\u001b[0m \u001b[0mDict\u001b[0m\u001b[0;34m[\u001b[0m\u001b[0mstr\u001b[0m\u001b[0;34m,\u001b[0m \u001b[0many\u001b[0m\u001b[0;34m]\u001b[0m\u001b[0;34m,\u001b[0m \u001b[0mcache\u001b[0m\u001b[0;34m:\u001b[0m \u001b[0mStorage\u001b[0m\u001b[0;34m,\u001b[0m \u001b[0mbackend\u001b[0m\u001b[0;34m:\u001b[0m \u001b[0mStorage\u001b[0m\u001b[0;34m)\u001b[0m\u001b[0;34m:\u001b[0m\u001b[0;34m\u001b[0m\u001b[0;34m\u001b[0m\u001b[0m\n\u001b[1;32m     14\u001b[0m \u001b[0;34m\u001b[0m\u001b[0m\n\u001b[0;32m---\u003e 15\u001b[0;31m         \u001b[0mself\u001b[0m\u001b[0;34m.\u001b[0m\u001b[0mcaching_strategy\u001b[0m \u001b[0;34m\u003d\u001b[0m \u001b[0mcaching_strategy_from_config\u001b[0m\u001b[0;34m(\u001b[0m\u001b[0mconfig\u001b[0m\u001b[0;34m[\u001b[0m\u001b[0;34m\u0027caching_strategy_settings\u0027\u001b[0m\u001b[0;34m]\u001b[0m\u001b[0;34m)\u001b[0m\u001b[0;34m\u001b[0m\u001b[0;34m\u001b[0m\u001b[0m\n\u001b[0m\u001b[1;32m     16\u001b[0m         \u001b[0mself\u001b[0m\u001b[0;34m.\u001b[0m\u001b[0meviction_strategy\u001b[0m \u001b[0;34m\u003d\u001b[0m \u001b[0meviction_strategy_from_config\u001b[0m\u001b[0;34m(\u001b[0m\u001b[0mconfig\u001b[0m\u001b[0;34m[\u001b[0m\u001b[0;34m\u0027eviction_strategy_settings\u0027\u001b[0m\u001b[0;34m]\u001b[0m\u001b[0;34m)\u001b[0m\u001b[0;34m\u001b[0m\u001b[0;34m\u001b[0m\u001b[0m\n\u001b[1;32m     17\u001b[0m         \u001b[0mself\u001b[0m\u001b[0;34m.\u001b[0m\u001b[0mttl_strategy\u001b[0m \u001b[0;34m\u003d\u001b[0m \u001b[0mttl_strategy_from_config\u001b[0m\u001b[0;34m(\u001b[0m\u001b[0mconfig\u001b[0m\u001b[0;34m[\u001b[0m\u001b[0;34m\u0027ttl_strategy_settings\u0027\u001b[0m\u001b[0;34m]\u001b[0m\u001b[0;34m)\u001b[0m\u001b[0;34m\u001b[0m\u001b[0;34m\u001b[0m\u001b[0m\n",
            "\u001b[0;32m~/Projects/rlcache/rlcache/strategies/caching_strategies/__init__.py\u001b[0m in \u001b[0;36mcaching_strategy_from_config\u001b[0;34m(config)\u001b[0m\n\u001b[1;32m     18\u001b[0m         \u001b[0;32mreturn\u001b[0m \u001b[0mOnReadOnlyCacheStrategy\u001b[0m\u001b[0;34m(\u001b[0m\u001b[0mconfig\u001b[0m\u001b[0;34m)\u001b[0m\u001b[0;34m\u001b[0m\u001b[0;34m\u001b[0m\u001b[0m\n\u001b[1;32m     19\u001b[0m     \u001b[0;32melif\u001b[0m \u001b[0mcaching_strategy_type\u001b[0m \u001b[0;34m\u003d\u003d\u001b[0m \u001b[0;34m\u0027rl_driven\u0027\u001b[0m\u001b[0;34m:\u001b[0m\u001b[0;34m\u001b[0m\u001b[0;34m\u001b[0m\u001b[0m\n\u001b[0;32m---\u003e 20\u001b[0;31m         \u001b[0;32mreturn\u001b[0m \u001b[0mRLCachingStrategy\u001b[0m\u001b[0;34m(\u001b[0m\u001b[0mconfig\u001b[0m\u001b[0;34m)\u001b[0m\u001b[0;34m\u001b[0m\u001b[0;34m\u001b[0m\u001b[0m\n\u001b[0m\u001b[1;32m     21\u001b[0m     \u001b[0;32melse\u001b[0m\u001b[0;34m:\u001b[0m\u001b[0;34m\u001b[0m\u001b[0;34m\u001b[0m\u001b[0m\n\u001b[1;32m     22\u001b[0m         \u001b[0;32mraise\u001b[0m \u001b[0mNotImplementedError\u001b[0m\u001b[0;34m(\u001b[0m\u001b[0;34m\"Type passed isn\u0027t one of the supported types: {}\"\u001b[0m\u001b[0;34m.\u001b[0m\u001b[0mformat\u001b[0m\u001b[0;34m(\u001b[0m\u001b[0m_supported_type\u001b[0m\u001b[0;34m)\u001b[0m\u001b[0;34m)\u001b[0m\u001b[0;34m\u001b[0m\u001b[0;34m\u001b[0m\u001b[0m\n",
            "\u001b[0;32m~/Projects/rlcache/rlcache/strategies/caching_strategies/rl_caching_strategy.py\u001b[0m in \u001b[0;36m__init__\u001b[0;34m(self, config)\u001b[0m\n\u001b[1;32m     15\u001b[0m         \u001b[0mself\u001b[0m\u001b[0;34m.\u001b[0m\u001b[0mconverter\u001b[0m \u001b[0;34m\u003d\u001b[0m \u001b[0mCachingStrategyRLConverter\u001b[0m\u001b[0;34m(\u001b[0m\u001b[0;34m)\u001b[0m\u001b[0;34m\u001b[0m\u001b[0;34m\u001b[0m\u001b[0m\n\u001b[1;32m     16\u001b[0m \u001b[0;34m\u001b[0m\u001b[0m\n\u001b[0;32m---\u003e 17\u001b[0;31m         \u001b[0mnum_indexes\u001b[0m \u001b[0;34m\u003d\u001b[0m \u001b[0mconfig\u001b[0m\u001b[0;34m[\u001b[0m\u001b[0;34m\u0027num_fields\u0027\u001b[0m\u001b[0;34m]\u001b[0m  \u001b[0;31m# TODO for now only 1 state, the key, only\u001b[0m\u001b[0;34m\u001b[0m\u001b[0;34m\u001b[0m\u001b[0m\n\u001b[0m\u001b[1;32m     18\u001b[0m         \u001b[0magent_config\u001b[0m \u001b[0;34m\u003d\u001b[0m \u001b[0mconfig\u001b[0m\u001b[0;34m[\u001b[0m\u001b[0;34m\u0027agent_config\u0027\u001b[0m\u001b[0;34m]\u001b[0m  \u001b[0;31m# DQN agent config\u001b[0m\u001b[0;34m\u001b[0m\u001b[0;34m\u001b[0m\u001b[0m\n\u001b[1;32m     19\u001b[0m \u001b[0;34m\u001b[0m\u001b[0m\n",
            "\u001b[0;31mKeyError\u001b[0m: \u0027num_fields\u0027"
          ],
          "ename": "KeyError",
          "evalue": "\u0027num_fields\u0027",
          "output_type": "error"
        }
      ],
      "source": "\nCONFIG \u003d {\n  \"experiment_name\": \"RLCaching strategy only\",\n  \"cache_backend_settings\": {\n    \"type\": \"inmemory\",\n    \"capacity\": 5000\n  },\n  \"database_backend_settings\": {\n    \"type\": \"inmemory\",\n    \"capacity\": 1000000000\n  },\n  \"cache_manager_settings\": {\n    \"caching_strategy_settings\": {\n      \"type\": \"rl_driven\"\n    },\n    \"ttl_strategy_settings\": {\n      \"type\": \"fixed\",\n      \"ttl\": 500\n    },\n    \"eviction_strategy_settings\": {\n      \"type\": \"lru\"\n    }\n  }\n}\nDATABASE_BACKEND \u003d storage_from_config(CONFIG[\u0027database_backend_settings\u0027])\nCACHE_BACKEND \u003d storage_from_config(CONFIG[\u0027cache_backend_settings\u0027])\nCACHE_MANAGER \u003d CacheManager(config\u003dCONFIG[\u0027cache_manager_settings\u0027],\n                             cache\u003dCACHE_BACKEND,\n                             backend\u003dDATABASE_BACKEND)\nREQUESTS_COUNTER \u003d Counter()",
      "metadata": {
        "pycharm": {
          "metadata": false,
          "name": "#%%\n",
          "is_executing": false
        }
      }
    },
    {
      "cell_type": "code",
      "execution_count": 92,
      "outputs": [
        {
          "name": "stdout",
          "text": [
            "19-04-02 18:49:36:INFO:Parsed state space definition: Dict([(\u0027capacity\u0027, \"Intbox(() \u003cclass \u0027numpy.int32\u0027\u003e )\"), (\u0027key\u0027, \"Textbox((1, 1) \u003cclass \u0027numpy.str_\u0027\u003e )\"), (\u0027values\u0027, \"Textbox((10, 1) \u003cclass \u0027numpy.str_\u0027\u003e )\")])\n",
            "19-04-02 18:49:36:INFO:Parsed action space definition: Boolbox(() \u003cclass \u0027numpy.bool_\u0027\u003e )\n",
            "19-04-02 18:49:36:INFO:No preprocessing required.\n",
            "19-04-02 18:49:36:INFO:Execution spec is: {\u0027seed\u0027: 15, \u0027gpu_spec\u0027: {\u0027gpus_enabled\u0027: True}, \u0027mode\u0027: \u0027single\u0027, \u0027distributed_spec\u0027: None, \u0027disable_monitoring\u0027: False, \u0027device_strategy\u0027: \u0027default\u0027, \u0027default_device\u0027: None, \u0027device_map\u0027: {}, \u0027session_config\u0027: {\u0027type\u0027: \u0027monitored-training-session\u0027, \u0027allow_soft_placement\u0027: True, \u0027log_device_placement\u0027: False}, \u0027enable_profiler\u0027: False, \u0027profiler_frequency\u0027: 1000, \u0027enable_timeline\u0027: False, \u0027timeline_frequency\u0027: 1}\n",
            "19-04-02 18:49:36:WARNING:WARNING: max_usable_gpus is 1 but only 0 gpus are locally visible. Using all available GPUs.\n",
            "19-04-02 18:49:36:INFO:GPU strategy initialized with GPUs enabled: []\n",
            "19-04-02 18:49:36:WARNING:`device_map` given for device-strategy\u003d`default`. Map will be ignored. Use device-strategy\u003d`custom` together with a `device_map`.\n",
            "19-04-02 18:49:36:INFO:Initializing graph executor with default device strategy. Backend will assign all visible devices.\n",
            "19-04-02 18:49:36:INFO:GPUs enabled: True. Usable GPUs: []\n"
          ],
          "output_type": "stream"
        },
        {
          "name": "stderr",
          "text": [
            "/home/samialab/anaconda3/envs/rlcache/lib/python3.6/site-packages/rlgraph/graphs/tensorflow_executor.py:757: DeprecationWarning: The \u0027warn\u0027 method is deprecated, use \u0027warning\u0027 instead\n  \"Using all available GPUs.\".format(self.max_usable_gpus, len(gpu_names)))\n"
          ],
          "output_type": "stream"
        }
      ],
      "source": "caching_config \u003d {\"type\": \"rl_driven\",\n                  \"num_fields\": 10,\n                  \u0027max_capacity\u0027: 5000,\n                  \"agent_config\": {\n                      \"type\": \"random-agent\",\n                      \"network_spec\": {},\n                      \"preprocessing_spec\": [],\n                      \"execution_spec\": {\n                          \"seed\": 15,\n                          \"gpu_spec\": {\n                              \"gpus_enabled\": True\n                          }\n                      },\n                  },\n                  }\n    \ncaching_strategy \u003d caching_strategy_from_config(caching_config)",
      "metadata": {
        "pycharm": {
          "metadata": false,
          "name": "#%%\n",
          "is_executing": false
        }
      }
    },
    {
      "cell_type": "code",
      "execution_count": 100,
      "outputs": [
        {
          "traceback": [
            "\u001b[0;31m---------------------------------------------------------------------------\u001b[0m",
            "\u001b[0;31mIndexError\u001b[0m                                Traceback (most recent call last)",
            "\u001b[0;32m\u003cipython-input-100-a6481314d5c6\u003e\u001b[0m in \u001b[0;36m\u003cmodule\u003e\u001b[0;34m\u001b[0m\n\u001b[1;32m     12\u001b[0m \u001b[0;34m\u001b[0m\u001b[0m\n\u001b[1;32m     13\u001b[0m \u001b[0;31m# TODO the workload generator generates stupid values\u001b[0m\u001b[0;34m\u001b[0m\u001b[0;34m\u001b[0m\u001b[0;34m\u001b[0m\u001b[0m\n\u001b[0;32m---\u003e 14\u001b[0;31m \u001b[0mcaching_strategy\u001b[0m\u001b[0;34m.\u001b[0m\u001b[0mshould_cache\u001b[0m\u001b[0;34m(\u001b[0m\u001b[0mdummy_key\u001b[0m\u001b[0;34m,\u001b[0m \u001b[0mdummy_values\u001b[0m\u001b[0;34m,\u001b[0m \u001b[0mCacheStatus\u001b[0m\u001b[0;34m.\u001b[0m\u001b[0mNew\u001b[0m\u001b[0;34m)\u001b[0m\u001b[0;34m\u001b[0m\u001b[0;34m\u001b[0m\u001b[0m\n\u001b[0m",
            "\u001b[0;32m~/Projects/rlcache/rlcache/strategies/caching_strategies/rl_caching_strategy.py\u001b[0m in \u001b[0;36mshould_cache\u001b[0;34m(self, key, values, cache_status)\u001b[0m\n\u001b[1;32m     45\u001b[0m         \u001b[0;31m# save the action taken, and the experience\u001b[0m\u001b[0;34m\u001b[0m\u001b[0;34m\u001b[0m\u001b[0;34m\u001b[0m\u001b[0m\n\u001b[1;32m     46\u001b[0m         \u001b[0mstate\u001b[0m \u001b[0;34m\u003d\u001b[0m \u001b[0mself\u001b[0m\u001b[0;34m.\u001b[0m\u001b[0mconverter\u001b[0m\u001b[0;34m.\u001b[0m\u001b[0msystem_to_agent_state\u001b[0m\u001b[0;34m(\u001b[0m\u001b[0mkey\u001b[0m\u001b[0;34m\u003d\u001b[0m\u001b[0mkey\u001b[0m\u001b[0;34m,\u001b[0m \u001b[0mvalues\u001b[0m\u001b[0;34m\u003d\u001b[0m\u001b[0mvalues\u001b[0m\u001b[0;34m,\u001b[0m \u001b[0mcache_status\u001b[0m\u001b[0;34m\u003d\u001b[0m\u001b[0mcache_status\u001b[0m\u001b[0;34m)\u001b[0m\u001b[0;34m\u001b[0m\u001b[0;34m\u001b[0m\u001b[0m\n\u001b[0;32m---\u003e 47\u001b[0;31m         \u001b[0;32mreturn\u001b[0m \u001b[0mself\u001b[0m\u001b[0;34m.\u001b[0m\u001b[0magent\u001b[0m\u001b[0;34m.\u001b[0m\u001b[0mget_action\u001b[0m\u001b[0;34m(\u001b[0m\u001b[0mstate\u001b[0m\u001b[0;34m)\u001b[0m\u001b[0;34m\u001b[0m\u001b[0;34m\u001b[0m\u001b[0m\n\u001b[0m\u001b[1;32m     48\u001b[0m \u001b[0;34m\u001b[0m\u001b[0m\n\u001b[1;32m     49\u001b[0m \u001b[0;34m\u001b[0m\u001b[0m\n",
            "\u001b[0;32m~/anaconda3/envs/rlcache/lib/python3.6/site-packages/rlgraph/agents/random_agent.py\u001b[0m in \u001b[0;36mget_action\u001b[0;34m(self, states, internals, use_exploration, apply_preprocessing, extra_returns)\u001b[0m\n\u001b[1;32m     31\u001b[0m \u001b[0;34m\u001b[0m\u001b[0m\n\u001b[1;32m     32\u001b[0m     \u001b[0;32mdef\u001b[0m \u001b[0mget_action\u001b[0m\u001b[0;34m(\u001b[0m\u001b[0mself\u001b[0m\u001b[0;34m,\u001b[0m \u001b[0mstates\u001b[0m\u001b[0;34m,\u001b[0m \u001b[0minternals\u001b[0m\u001b[0;34m\u003d\u001b[0m\u001b[0;32mNone\u001b[0m\u001b[0;34m,\u001b[0m \u001b[0muse_exploration\u001b[0m\u001b[0;34m\u003d\u001b[0m\u001b[0;32mFalse\u001b[0m\u001b[0;34m,\u001b[0m  \u001b[0mapply_preprocessing\u001b[0m\u001b[0;34m\u003d\u001b[0m\u001b[0;32mTrue\u001b[0m\u001b[0;34m,\u001b[0m \u001b[0mextra_returns\u001b[0m\u001b[0;34m\u003d\u001b[0m\u001b[0;32mNone\u001b[0m\u001b[0;34m)\u001b[0m\u001b[0;34m:\u001b[0m\u001b[0;34m\u001b[0m\u001b[0;34m\u001b[0m\u001b[0m\n\u001b[0;32m---\u003e 33\u001b[0;31m         \u001b[0ma\u001b[0m \u001b[0;34m\u003d\u001b[0m \u001b[0mself\u001b[0m\u001b[0;34m.\u001b[0m\u001b[0maction_space\u001b[0m\u001b[0;34m.\u001b[0m\u001b[0msample\u001b[0m\u001b[0;34m(\u001b[0m\u001b[0msize\u001b[0m\u001b[0;34m\u003d\u001b[0m\u001b[0mlen\u001b[0m\u001b[0;34m(\u001b[0m\u001b[0mstates\u001b[0m\u001b[0;34m[\u001b[0m\u001b[0;36m0\u001b[0m\u001b[0;34m]\u001b[0m\u001b[0;34m)\u001b[0m\u001b[0;34m)\u001b[0m\u001b[0;34m\u001b[0m\u001b[0;34m\u001b[0m\u001b[0m\n\u001b[0m\u001b[1;32m     34\u001b[0m         \u001b[0;32mif\u001b[0m \u001b[0mextra_returns\u001b[0m \u001b[0;32mis\u001b[0m \u001b[0;32mnot\u001b[0m \u001b[0;32mNone\u001b[0m \u001b[0;32mand\u001b[0m \u001b[0;34m\"preprocessed_states\"\u001b[0m \u001b[0;32min\u001b[0m \u001b[0mextra_returns\u001b[0m\u001b[0;34m:\u001b[0m\u001b[0;34m\u001b[0m\u001b[0;34m\u001b[0m\u001b[0m\n\u001b[1;32m     35\u001b[0m             \u001b[0;32mreturn\u001b[0m \u001b[0ma\u001b[0m\u001b[0;34m,\u001b[0m \u001b[0mstates\u001b[0m\u001b[0;34m\u001b[0m\u001b[0;34m\u001b[0m\u001b[0m\n",
            "\u001b[0;31mIndexError\u001b[0m: too many indices for array"
          ],
          "ename": "IndexError",
          "evalue": "too many indices for array",
          "output_type": "error"
        }
      ],
      "source": "dummy_key \u003d \u0027user6868534811834787757\u0027\ndummy_values \u003d  {\u0027field1\u0027: \u00272Ki\"-2$\u003ez\\\u0027087Vq.7d\"+:)Ec1Iw7/`0Y5(#\u003c%Fm\"$:4%h6G\\\u0027\\\u00270 !M\u003d#\"6\u003d;j\"C+86p;+\u003e9Vy?L546z9@1\u003dZe3/`?^y0Vo7/|94n/\u0027,\n                 \u0027field0\u0027: \u0027(Ei#Lw*4404n0\u003ez22\u003c\"]5)8*$/b;Q345~2Aq\\\u0027:8!6:\u003dQ7-Z1((l76j;%\u003e)Du?A7,#f/1t*\u0026d\u003dKe#:\";@#,]o,A}.!b9Ic;(\u003e17r;\u0027,\n                 \u0027field7\u0027: \u0027\u003d/\u003e0Pu:M59P)$(\u003e$G9);j\"Ik(\u0026,(44\u003d;\u003e1*,7Ai\u0026Y+(#6)Ri/6\"996)R#8!b?Ms\\\u0027#4-2.\u003d |-(v+24\\\u0027Ge3E!35x\\\u0027+4![{#Tu(%\"9\u0027, \n                 \u0027field6\u0027: \u0027,(d\u0026\\\\!\"?\u003e5),3%(%Xw?D-$(n4Rw\\\u0027%./:,!Ls:7$(Ay9949@3(.f\"_m7Sq/B\u003d4X{;:.(?b\"L%\u003d\u003d8\u003c[i802 62 ^q\"?t6%09D5;E\\\u0027 \u0027, \n                 \u0027field9\u0027: \u0027(344S)-_%4:\"\\\u0027_a6\u0026. ?n*Ks:.p.\u003e$6+t\\\u0027 8)A+-Ho)((9Ig,,4,?h-\\\u0027b/@m/\u003ex\u0026E74]{6A+1\u003e 09~5[u7F%\u003e4`+?64J#\u003d485Ym2\u0027,\n                 \u0027field8\u0027: \u0027\u0026Ls.Z3,H90S!(Gc7?\"#F)-Q97\u0026v\\\u0027-\"/ t*@\\x7f\u003e-z/Qs \u003e\u0026,,2\u003dX1\u003dM9\u0026\u003dv#9*#)|7^c [!)\\\\7\u0026\\\u0027j3!n3$t?Ay\\\u0027U!4Hy%-4%[7\u003eL)%\u0027,\n                 \u0027field3\u0027: \"/.`;%h\u003e\u0026j/K3-G{7V%1Uy\u003e\u0027\u0026$\\\\-4E%8(t+F\u003d ? )-d%\\\\\\x7f6R)9H)$A\u0027)I\\x7f+\u003c23Di/I7\u003eYc\u003eW{$B5)/\u003e3*z:Je 2`\u00275r+Uq\u003e^?\u0026Rs#\", \n                 \u0027field2\u0027: \u00277B; ,|,#|\u003e:40Yc*^y6\"*51p\\\u00271z7[#-X\u003d-Su$Pc\"Y\\x7f\\\u0027.d;Ma8\\\\-- ~7+,9+t$Y{/Mg\"3l.@u1J!$?\"(Gy2Fa:0d.Si92,4M32Cu#\u0027,\n                 \u0027field5\u0027: \u0027+*6 \\\\g\"9d/:: !:!$26 8 A+60l2 v 4n#P\\\u00277^)!J72021\\\u0027t##r\u003e;,8De;X--2b2*z$)* \u003ef%@c3\u003c85Ay37z9Aq/R5*O7) b3Ku\u003e\u0027, \n                 \u0027field4\u0027: \u0027(Ca2\u003c:*Hg7O/26l\u003e-27;0\u003cT)8Wm?.6+2*1^}\u003e+ 0No;Ss2Dg\u003e3h2]q!+*1Ec1Xg.]3\u00263~.?0\\\u0027\u003c.$Ru3)j3,.?Q1-L!#Py\\\u0027\u0026,\"$v\u0026\u0027}\n\n# TODO the workload generator generates stupid values\ncaching_strategy.should_cache(dummy_key, dummy_values, CacheStatus.New)",
      "metadata": {
        "pycharm": {
          "metadata": false,
          "name": "#%%\n",
          "is_executing": false
        }
      }
    },
    {
      "cell_type": "code",
      "execution_count": 52,
      "outputs": [],
      "source": "converter_test \u003d CachingStrategyRLConverter()",
      "metadata": {
        "pycharm": {
          "metadata": false,
          "name": "#%%\n",
          "is_executing": false
        }
      }
    },
    {
      "cell_type": "code",
      "execution_count": 56,
      "outputs": [
        {
          "data": {
            "text/plain": "array(\u0027user6868534811834787757\u0027, dtype\u003d\u0027\u003cU23\u0027)"
          },
          "metadata": {},
          "output_type": "execute_result",
          "execution_count": 56
        }
      ],
      "source": "converter_test.system_to_agent_state(key\u003ddummy_key, \n                                     value\u003ddummy_values, \n                                     status\u003dCacheStatus.New)",
      "metadata": {
        "pycharm": {
          "metadata": false,
          "name": "#%%\n",
          "is_executing": false
        }
      }
    },
    {
      "cell_type": "code",
      "execution_count": 106,
      "outputs": [
        {
          "data": {
            "text/plain": "{\u0027capacity\u0027: array(1173, dtype\u003dint32),\n \u0027key\u0027: array([[\u0027N\u0027]], dtype\u003d\u0027\u003cU1\u0027),\n \u0027values\u0027: array([[\u0027N\u0027],\n        [\u0027N\u0027],\n        [\u0027N\u0027],\n        [\u0027N\u0027],\n        [\u0027N\u0027],\n        [\u0027N\u0027],\n        [\u0027N\u0027],\n        [\u0027N\u0027],\n        [\u0027N\u0027],\n        [\u0027N\u0027]], dtype\u003d\u0027\u003cU1\u0027)}"
          },
          "metadata": {},
          "output_type": "execute_result",
          "execution_count": 106
        }
      ],
      "source": "\ncaching_strategy.agent.state_space.sample()",
      "metadata": {
        "pycharm": {
          "metadata": false,
          "name": "#%%\n",
          "is_executing": false
        }
      }
    },
    {
      "cell_type": "code",
      "execution_count": null,
      "outputs": [],
      "source": "\n",
      "metadata": {
        "pycharm": {
          "metadata": false,
          "name": "#%%\n"
        }
      }
    }
  ],
  "metadata": {
    "language_info": {
      "codemirror_mode": {
        "name": "ipython",
        "version": 2
      },
      "file_extension": ".py",
      "mimetype": "text/x-python",
      "name": "python",
      "nbconvert_exporter": "python",
      "pygments_lexer": "ipython2",
      "version": "2.7.6"
    },
    "kernelspec": {
      "name": "python3",
      "language": "python",
      "display_name": "Python 3"
    }
  },
  "nbformat": 4,
  "nbformat_minor": 0
}